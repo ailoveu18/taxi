{
 "cells": [
  {
   "cell_type": "code",
   "execution_count": 1,
   "id": "22bdb2fd",
   "metadata": {},
   "outputs": [],
   "source": [
    "import pandas as pd\n",
    "import numpy as np\n",
    "import matplotlib.pyplot as plt\n",
    "import seaborn as sns"
   ]
  },
  {
   "cell_type": "code",
   "execution_count": 5,
   "id": "0dafbbb3",
   "metadata": {},
   "outputs": [],
   "source": [
    "data = pd.read_csv(r'C:\\Users\\Areum\\Documents\\Python\\trip.csv')\n"
   ]
  },
  {
   "cell_type": "code",
   "execution_count": 7,
   "id": "0fbe27f3",
   "metadata": {},
   "outputs": [
    {
     "data": {
      "text/html": [
       "<div>\n",
       "<style scoped>\n",
       "    .dataframe tbody tr th:only-of-type {\n",
       "        vertical-align: middle;\n",
       "    }\n",
       "\n",
       "    .dataframe tbody tr th {\n",
       "        vertical-align: top;\n",
       "    }\n",
       "\n",
       "    .dataframe thead th {\n",
       "        text-align: right;\n",
       "    }\n",
       "</style>\n",
       "<table border=\"1\" class=\"dataframe\">\n",
       "  <thead>\n",
       "    <tr style=\"text-align: right;\">\n",
       "      <th></th>\n",
       "      <th>passenger_name</th>\n",
       "      <th>tpep_pickup_datetime</th>\n",
       "      <th>tpep_dropoff_datetime</th>\n",
       "      <th>payment_method</th>\n",
       "      <th>passenger_count</th>\n",
       "      <th>trip_distance</th>\n",
       "      <th>fare_amount</th>\n",
       "      <th>tip_amount</th>\n",
       "      <th>tolls_amount</th>\n",
       "    </tr>\n",
       "  </thead>\n",
       "  <tbody>\n",
       "    <tr>\n",
       "      <th>0</th>\n",
       "      <td>Pamela Duffy</td>\n",
       "      <td>03/25/2017 8:55:43 AM</td>\n",
       "      <td>03/25/2017 9:09:47 AM</td>\n",
       "      <td>Debit Card</td>\n",
       "      <td>6</td>\n",
       "      <td>3.34</td>\n",
       "      <td>13.0</td>\n",
       "      <td>2.76</td>\n",
       "      <td>0.0</td>\n",
       "    </tr>\n",
       "    <tr>\n",
       "      <th>1</th>\n",
       "      <td>Michelle Foster</td>\n",
       "      <td>04/11/2017 2:53:28 PM</td>\n",
       "      <td>04/11/2017 3:19:58 PM</td>\n",
       "      <td>Debit Card</td>\n",
       "      <td>1</td>\n",
       "      <td>1.80</td>\n",
       "      <td>16.0</td>\n",
       "      <td>4.00</td>\n",
       "      <td>0.0</td>\n",
       "    </tr>\n",
       "    <tr>\n",
       "      <th>2</th>\n",
       "      <td>Tina Combs</td>\n",
       "      <td>12/15/2017 7:26:56 AM</td>\n",
       "      <td>12/15/2017 7:34:08 AM</td>\n",
       "      <td>Debit Card</td>\n",
       "      <td>1</td>\n",
       "      <td>1.00</td>\n",
       "      <td>6.5</td>\n",
       "      <td>1.45</td>\n",
       "      <td>0.0</td>\n",
       "    </tr>\n",
       "    <tr>\n",
       "      <th>3</th>\n",
       "      <td>Anthony Ray</td>\n",
       "      <td>05/07/2017 1:17:59 PM</td>\n",
       "      <td>05/07/2017 1:48:14 PM</td>\n",
       "      <td>Cash</td>\n",
       "      <td>1</td>\n",
       "      <td>3.70</td>\n",
       "      <td>20.5</td>\n",
       "      <td>6.39</td>\n",
       "      <td>0.0</td>\n",
       "    </tr>\n",
       "    <tr>\n",
       "      <th>4</th>\n",
       "      <td>Brianna Johnson</td>\n",
       "      <td>04/15/2017 11:32:20 PM</td>\n",
       "      <td>04/15/2017 11:49:03 PM</td>\n",
       "      <td>Debit Card</td>\n",
       "      <td>1</td>\n",
       "      <td>4.37</td>\n",
       "      <td>16.5</td>\n",
       "      <td>0.00</td>\n",
       "      <td>0.0</td>\n",
       "    </tr>\n",
       "  </tbody>\n",
       "</table>\n",
       "</div>"
      ],
      "text/plain": [
       "    passenger_name    tpep_pickup_datetime   tpep_dropoff_datetime  \\\n",
       "0     Pamela Duffy   03/25/2017 8:55:43 AM   03/25/2017 9:09:47 AM   \n",
       "1  Michelle Foster   04/11/2017 2:53:28 PM   04/11/2017 3:19:58 PM   \n",
       "2       Tina Combs   12/15/2017 7:26:56 AM   12/15/2017 7:34:08 AM   \n",
       "3      Anthony Ray   05/07/2017 1:17:59 PM   05/07/2017 1:48:14 PM   \n",
       "4  Brianna Johnson  04/15/2017 11:32:20 PM  04/15/2017 11:49:03 PM   \n",
       "\n",
       "  payment_method  passenger_count  trip_distance  fare_amount  tip_amount  \\\n",
       "0     Debit Card                6           3.34         13.0        2.76   \n",
       "1     Debit Card                1           1.80         16.0        4.00   \n",
       "2     Debit Card                1           1.00          6.5        1.45   \n",
       "3           Cash                1           3.70         20.5        6.39   \n",
       "4     Debit Card                1           4.37         16.5        0.00   \n",
       "\n",
       "   tolls_amount  \n",
       "0           0.0  \n",
       "1           0.0  \n",
       "2           0.0  \n",
       "3           0.0  \n",
       "4           0.0  "
      ]
     },
     "execution_count": 7,
     "metadata": {},
     "output_type": "execute_result"
    }
   ],
   "source": [
    "data.head()"
   ]
  },
  {
   "cell_type": "code",
   "execution_count": 9,
   "id": "61362967",
   "metadata": {},
   "outputs": [
    {
     "name": "stdout",
     "output_type": "stream",
     "text": [
      "<class 'pandas.core.frame.DataFrame'>\n",
      "RangeIndex: 22701 entries, 0 to 22700\n",
      "Data columns (total 9 columns):\n",
      " #   Column                 Non-Null Count  Dtype  \n",
      "---  ------                 --------------  -----  \n",
      " 0   passenger_name         22701 non-null  object \n",
      " 1   tpep_pickup_datetime   22701 non-null  object \n",
      " 2   tpep_dropoff_datetime  22701 non-null  object \n",
      " 3   payment_method         22701 non-null  object \n",
      " 4   passenger_count        22701 non-null  int64  \n",
      " 5   trip_distance          22701 non-null  float64\n",
      " 6   fare_amount            22698 non-null  float64\n",
      " 7   tip_amount             22701 non-null  float64\n",
      " 8   tolls_amount           22701 non-null  float64\n",
      "dtypes: float64(4), int64(1), object(4)\n",
      "memory usage: 1.6+ MB\n"
     ]
    }
   ],
   "source": [
    "data.info()"
   ]
  },
  {
   "cell_type": "code",
   "execution_count": 11,
   "id": "31893313",
   "metadata": {},
   "outputs": [
    {
     "data": {
      "text/html": [
       "<div>\n",
       "<style scoped>\n",
       "    .dataframe tbody tr th:only-of-type {\n",
       "        vertical-align: middle;\n",
       "    }\n",
       "\n",
       "    .dataframe tbody tr th {\n",
       "        vertical-align: top;\n",
       "    }\n",
       "\n",
       "    .dataframe thead th {\n",
       "        text-align: right;\n",
       "    }\n",
       "</style>\n",
       "<table border=\"1\" class=\"dataframe\">\n",
       "  <thead>\n",
       "    <tr style=\"text-align: right;\">\n",
       "      <th></th>\n",
       "      <th>passenger_count</th>\n",
       "      <th>trip_distance</th>\n",
       "      <th>fare_amount</th>\n",
       "      <th>tip_amount</th>\n",
       "      <th>tolls_amount</th>\n",
       "    </tr>\n",
       "  </thead>\n",
       "  <tbody>\n",
       "    <tr>\n",
       "      <th>count</th>\n",
       "      <td>22701.000000</td>\n",
       "      <td>22701.000000</td>\n",
       "      <td>22698.000000</td>\n",
       "      <td>22701.000000</td>\n",
       "      <td>22701.000000</td>\n",
       "    </tr>\n",
       "    <tr>\n",
       "      <th>mean</th>\n",
       "      <td>1.643584</td>\n",
       "      <td>2.913400</td>\n",
       "      <td>13.024009</td>\n",
       "      <td>1.835745</td>\n",
       "      <td>0.312514</td>\n",
       "    </tr>\n",
       "    <tr>\n",
       "      <th>std</th>\n",
       "      <td>1.304942</td>\n",
       "      <td>3.653023</td>\n",
       "      <td>13.240074</td>\n",
       "      <td>2.800537</td>\n",
       "      <td>1.399153</td>\n",
       "    </tr>\n",
       "    <tr>\n",
       "      <th>min</th>\n",
       "      <td>0.000000</td>\n",
       "      <td>0.000000</td>\n",
       "      <td>-120.000000</td>\n",
       "      <td>0.000000</td>\n",
       "      <td>0.000000</td>\n",
       "    </tr>\n",
       "    <tr>\n",
       "      <th>25%</th>\n",
       "      <td>1.000000</td>\n",
       "      <td>0.990000</td>\n",
       "      <td>6.500000</td>\n",
       "      <td>0.000000</td>\n",
       "      <td>0.000000</td>\n",
       "    </tr>\n",
       "    <tr>\n",
       "      <th>50%</th>\n",
       "      <td>1.000000</td>\n",
       "      <td>1.610000</td>\n",
       "      <td>9.500000</td>\n",
       "      <td>1.350000</td>\n",
       "      <td>0.000000</td>\n",
       "    </tr>\n",
       "    <tr>\n",
       "      <th>75%</th>\n",
       "      <td>2.000000</td>\n",
       "      <td>3.060000</td>\n",
       "      <td>14.500000</td>\n",
       "      <td>2.450000</td>\n",
       "      <td>0.000000</td>\n",
       "    </tr>\n",
       "    <tr>\n",
       "      <th>max</th>\n",
       "      <td>36.000000</td>\n",
       "      <td>33.960000</td>\n",
       "      <td>999.990000</td>\n",
       "      <td>200.000000</td>\n",
       "      <td>19.100000</td>\n",
       "    </tr>\n",
       "  </tbody>\n",
       "</table>\n",
       "</div>"
      ],
      "text/plain": [
       "       passenger_count  trip_distance   fare_amount    tip_amount  \\\n",
       "count     22701.000000   22701.000000  22698.000000  22701.000000   \n",
       "mean          1.643584       2.913400     13.024009      1.835745   \n",
       "std           1.304942       3.653023     13.240074      2.800537   \n",
       "min           0.000000       0.000000   -120.000000      0.000000   \n",
       "25%           1.000000       0.990000      6.500000      0.000000   \n",
       "50%           1.000000       1.610000      9.500000      1.350000   \n",
       "75%           2.000000       3.060000     14.500000      2.450000   \n",
       "max          36.000000      33.960000    999.990000    200.000000   \n",
       "\n",
       "       tolls_amount  \n",
       "count  22701.000000  \n",
       "mean       0.312514  \n",
       "std        1.399153  \n",
       "min        0.000000  \n",
       "25%        0.000000  \n",
       "50%        0.000000  \n",
       "75%        0.000000  \n",
       "max       19.100000  "
      ]
     },
     "execution_count": 11,
     "metadata": {},
     "output_type": "execute_result"
    }
   ],
   "source": [
    "data.describe()"
   ]
  },
  {
   "cell_type": "code",
   "execution_count": 12,
   "id": "e69d18e2",
   "metadata": {},
   "outputs": [
    {
     "data": {
      "text/plain": [
       "0        False\n",
       "1        False\n",
       "2        False\n",
       "3        False\n",
       "4        False\n",
       "         ...  \n",
       "22696    False\n",
       "22697    False\n",
       "22698    False\n",
       "22699    False\n",
       "22700    False\n",
       "Length: 22701, dtype: bool"
      ]
     },
     "execution_count": 12,
     "metadata": {},
     "output_type": "execute_result"
    }
   ],
   "source": [
    "data.duplicated()\n",
    "# Check for duplicates"
   ]
  },
  {
   "cell_type": "code",
   "execution_count": 14,
   "id": "91284c6f",
   "metadata": {},
   "outputs": [
    {
     "data": {
      "text/html": [
       "<div>\n",
       "<style scoped>\n",
       "    .dataframe tbody tr th:only-of-type {\n",
       "        vertical-align: middle;\n",
       "    }\n",
       "\n",
       "    .dataframe tbody tr th {\n",
       "        vertical-align: top;\n",
       "    }\n",
       "\n",
       "    .dataframe thead th {\n",
       "        text-align: right;\n",
       "    }\n",
       "</style>\n",
       "<table border=\"1\" class=\"dataframe\">\n",
       "  <thead>\n",
       "    <tr style=\"text-align: right;\">\n",
       "      <th></th>\n",
       "      <th>passenger_name</th>\n",
       "      <th>tpep_pickup_datetime</th>\n",
       "      <th>tpep_dropoff_datetime</th>\n",
       "      <th>payment_method</th>\n",
       "      <th>passenger_count</th>\n",
       "      <th>trip_distance</th>\n",
       "      <th>fare_amount</th>\n",
       "      <th>tip_amount</th>\n",
       "      <th>tolls_amount</th>\n",
       "    </tr>\n",
       "  </thead>\n",
       "  <tbody>\n",
       "    <tr>\n",
       "      <th>17</th>\n",
       "      <td>Sarah Gross</td>\n",
       "      <td>08/15/2017 7:48:08 PM</td>\n",
       "      <td>08/15/2017 8:00:37 PM</td>\n",
       "      <td>Cash</td>\n",
       "      <td>1</td>\n",
       "      <td>3.6</td>\n",
       "      <td>12.5</td>\n",
       "      <td>2.85</td>\n",
       "      <td>0.0</td>\n",
       "    </tr>\n",
       "    <tr>\n",
       "      <th>204</th>\n",
       "      <td>Lisa Bullock</td>\n",
       "      <td>02/13/2017 4:25:41 PM</td>\n",
       "      <td>02/13/2017 4:55:35 PM</td>\n",
       "      <td>Cash</td>\n",
       "      <td>1</td>\n",
       "      <td>4.2</td>\n",
       "      <td>21.0</td>\n",
       "      <td>0.00</td>\n",
       "      <td>0.0</td>\n",
       "    </tr>\n",
       "  </tbody>\n",
       "</table>\n",
       "</div>"
      ],
      "text/plain": [
       "    passenger_name   tpep_pickup_datetime  tpep_dropoff_datetime  \\\n",
       "17     Sarah Gross  08/15/2017 7:48:08 PM  08/15/2017 8:00:37 PM   \n",
       "204   Lisa Bullock  02/13/2017 4:25:41 PM  02/13/2017 4:55:35 PM   \n",
       "\n",
       "    payment_method  passenger_count  trip_distance  fare_amount  tip_amount  \\\n",
       "17            Cash                1            3.6         12.5        2.85   \n",
       "204           Cash                1            4.2         21.0        0.00   \n",
       "\n",
       "     tolls_amount  \n",
       "17            0.0  \n",
       "204           0.0  "
      ]
     },
     "execution_count": 14,
     "metadata": {},
     "output_type": "execute_result"
    }
   ],
   "source": [
    "duplicates = data[data.duplicated()]\n",
    "duplicates"
   ]
  },
  {
   "cell_type": "code",
   "execution_count": 17,
   "id": "de1d0e85",
   "metadata": {},
   "outputs": [
    {
     "data": {
      "text/html": [
       "<div>\n",
       "<style scoped>\n",
       "    .dataframe tbody tr th:only-of-type {\n",
       "        vertical-align: middle;\n",
       "    }\n",
       "\n",
       "    .dataframe tbody tr th {\n",
       "        vertical-align: top;\n",
       "    }\n",
       "\n",
       "    .dataframe thead th {\n",
       "        text-align: right;\n",
       "    }\n",
       "</style>\n",
       "<table border=\"1\" class=\"dataframe\">\n",
       "  <thead>\n",
       "    <tr style=\"text-align: right;\">\n",
       "      <th></th>\n",
       "      <th>passenger_name</th>\n",
       "      <th>tpep_pickup_datetime</th>\n",
       "      <th>tpep_dropoff_datetime</th>\n",
       "      <th>payment_method</th>\n",
       "      <th>passenger_count</th>\n",
       "      <th>trip_distance</th>\n",
       "      <th>fare_amount</th>\n",
       "      <th>tip_amount</th>\n",
       "      <th>tolls_amount</th>\n",
       "    </tr>\n",
       "  </thead>\n",
       "  <tbody>\n",
       "    <tr>\n",
       "      <th>4</th>\n",
       "      <td>Brianna Johnson</td>\n",
       "      <td>04/15/2017 11:32:20 PM</td>\n",
       "      <td>04/15/2017 11:49:03 PM</td>\n",
       "      <td>Debit Card</td>\n",
       "      <td>1</td>\n",
       "      <td>4.37</td>\n",
       "      <td>16.5</td>\n",
       "      <td>0.00</td>\n",
       "      <td>0.00</td>\n",
       "    </tr>\n",
       "    <tr>\n",
       "      <th>5</th>\n",
       "      <td>Justin Smith</td>\n",
       "      <td>03/25/2017 8:34:11 PM</td>\n",
       "      <td>03/25/2017 8:42:11 PM</td>\n",
       "      <td>Debit Card</td>\n",
       "      <td>6</td>\n",
       "      <td>2.30</td>\n",
       "      <td>9.0</td>\n",
       "      <td>2.06</td>\n",
       "      <td>0.00</td>\n",
       "    </tr>\n",
       "    <tr>\n",
       "      <th>9</th>\n",
       "      <td>Amanda Jones</td>\n",
       "      <td>11/10/2017 3:20:29 PM</td>\n",
       "      <td>11/10/2017 3:40:55 PM</td>\n",
       "      <td>Cash</td>\n",
       "      <td>1</td>\n",
       "      <td>1.60</td>\n",
       "      <td>13.0</td>\n",
       "      <td>2.75</td>\n",
       "      <td>0.00</td>\n",
       "    </tr>\n",
       "    <tr>\n",
       "      <th>11</th>\n",
       "      <td>Jamie Brown</td>\n",
       "      <td>03/05/2017 7:15:30 PM</td>\n",
       "      <td>03/05/2017 7:52:18 PM</td>\n",
       "      <td>Debit Card</td>\n",
       "      <td>2</td>\n",
       "      <td>18.90</td>\n",
       "      <td>52.0</td>\n",
       "      <td>14.58</td>\n",
       "      <td>5.54</td>\n",
       "    </tr>\n",
       "    <tr>\n",
       "      <th>16</th>\n",
       "      <td>Sarah Gross</td>\n",
       "      <td>08/15/2017 7:48:08 PM</td>\n",
       "      <td>08/15/2017 8:00:37 PM</td>\n",
       "      <td>Cash</td>\n",
       "      <td>1</td>\n",
       "      <td>3.60</td>\n",
       "      <td>12.5</td>\n",
       "      <td>2.85</td>\n",
       "      <td>0.00</td>\n",
       "    </tr>\n",
       "    <tr>\n",
       "      <th>...</th>\n",
       "      <td>...</td>\n",
       "      <td>...</td>\n",
       "      <td>...</td>\n",
       "      <td>...</td>\n",
       "      <td>...</td>\n",
       "      <td>...</td>\n",
       "      <td>...</td>\n",
       "      <td>...</td>\n",
       "      <td>...</td>\n",
       "    </tr>\n",
       "    <tr>\n",
       "      <th>22683</th>\n",
       "      <td>Joseph Miller</td>\n",
       "      <td>06/09/2017 6:24:49 PM</td>\n",
       "      <td>06/09/2017 6:36:15 PM</td>\n",
       "      <td>Cash</td>\n",
       "      <td>1</td>\n",
       "      <td>1.79</td>\n",
       "      <td>9.5</td>\n",
       "      <td>1.00</td>\n",
       "      <td>0.00</td>\n",
       "    </tr>\n",
       "    <tr>\n",
       "      <th>22687</th>\n",
       "      <td>Michele Moore</td>\n",
       "      <td>07/05/2017 10:42:46 PM</td>\n",
       "      <td>07/05/2017 10:49:29 PM</td>\n",
       "      <td>Debit Card</td>\n",
       "      <td>1</td>\n",
       "      <td>1.01</td>\n",
       "      <td>6.5</td>\n",
       "      <td>1.56</td>\n",
       "      <td>0.00</td>\n",
       "    </tr>\n",
       "    <tr>\n",
       "      <th>22692</th>\n",
       "      <td>Matthew Anderson</td>\n",
       "      <td>09/21/2017 1:44:42 PM</td>\n",
       "      <td>09/21/2017 1:52:06 PM</td>\n",
       "      <td>Cash</td>\n",
       "      <td>1</td>\n",
       "      <td>0.89</td>\n",
       "      <td>7.0</td>\n",
       "      <td>1.95</td>\n",
       "      <td>0.00</td>\n",
       "    </tr>\n",
       "    <tr>\n",
       "      <th>22693</th>\n",
       "      <td>Jonathan Bates</td>\n",
       "      <td>01/06/2017 1:50:14 AM</td>\n",
       "      <td>01/06/2017 1:56:47 AM</td>\n",
       "      <td>Cash</td>\n",
       "      <td>1</td>\n",
       "      <td>2.12</td>\n",
       "      <td>8.0</td>\n",
       "      <td>0.00</td>\n",
       "      <td>0.00</td>\n",
       "    </tr>\n",
       "    <tr>\n",
       "      <th>22696</th>\n",
       "      <td>Austin Johnson</td>\n",
       "      <td>02/24/2017 5:37:23 PM</td>\n",
       "      <td>02/24/2017 5:40:39 PM</td>\n",
       "      <td>Cash</td>\n",
       "      <td>3</td>\n",
       "      <td>0.61</td>\n",
       "      <td>4.0</td>\n",
       "      <td>0.00</td>\n",
       "      <td>0.00</td>\n",
       "    </tr>\n",
       "  </tbody>\n",
       "</table>\n",
       "<p>4585 rows × 9 columns</p>\n",
       "</div>"
      ],
      "text/plain": [
       "         passenger_name    tpep_pickup_datetime   tpep_dropoff_datetime  \\\n",
       "4       Brianna Johnson  04/15/2017 11:32:20 PM  04/15/2017 11:49:03 PM   \n",
       "5          Justin Smith   03/25/2017 8:34:11 PM   03/25/2017 8:42:11 PM   \n",
       "9          Amanda Jones   11/10/2017 3:20:29 PM   11/10/2017 3:40:55 PM   \n",
       "11          Jamie Brown   03/05/2017 7:15:30 PM   03/05/2017 7:52:18 PM   \n",
       "16          Sarah Gross   08/15/2017 7:48:08 PM   08/15/2017 8:00:37 PM   \n",
       "...                 ...                     ...                     ...   \n",
       "22683     Joseph Miller   06/09/2017 6:24:49 PM   06/09/2017 6:36:15 PM   \n",
       "22687     Michele Moore  07/05/2017 10:42:46 PM  07/05/2017 10:49:29 PM   \n",
       "22692  Matthew Anderson   09/21/2017 1:44:42 PM   09/21/2017 1:52:06 PM   \n",
       "22693    Jonathan Bates   01/06/2017 1:50:14 AM   01/06/2017 1:56:47 AM   \n",
       "22696    Austin Johnson   02/24/2017 5:37:23 PM   02/24/2017 5:40:39 PM   \n",
       "\n",
       "      payment_method  passenger_count  trip_distance  fare_amount  tip_amount  \\\n",
       "4         Debit Card                1           4.37         16.5        0.00   \n",
       "5         Debit Card                6           2.30          9.0        2.06   \n",
       "9               Cash                1           1.60         13.0        2.75   \n",
       "11        Debit Card                2          18.90         52.0       14.58   \n",
       "16              Cash                1           3.60         12.5        2.85   \n",
       "...              ...              ...            ...          ...         ...   \n",
       "22683           Cash                1           1.79          9.5        1.00   \n",
       "22687     Debit Card                1           1.01          6.5        1.56   \n",
       "22692           Cash                1           0.89          7.0        1.95   \n",
       "22693           Cash                1           2.12          8.0        0.00   \n",
       "22696           Cash                3           0.61          4.0        0.00   \n",
       "\n",
       "       tolls_amount  \n",
       "4              0.00  \n",
       "5              0.00  \n",
       "9              0.00  \n",
       "11             5.54  \n",
       "16             0.00  \n",
       "...             ...  \n",
       "22683          0.00  \n",
       "22687          0.00  \n",
       "22692          0.00  \n",
       "22693          0.00  \n",
       "22696          0.00  \n",
       "\n",
       "[4585 rows x 9 columns]"
      ]
     },
     "execution_count": 17,
     "metadata": {},
     "output_type": "execute_result"
    }
   ],
   "source": [
    "# passenger_name 기준으로 중복된 이름만 보기\n",
    "data[data.duplicated('passenger_name', keep=False)]\n"
   ]
  },
  {
   "cell_type": "code",
   "execution_count": 19,
   "id": "3f34297c",
   "metadata": {},
   "outputs": [
    {
     "name": "stdout",
     "output_type": "stream",
     "text": [
      "['Sarah Gross' 'Lisa Bullock']\n"
     ]
    }
   ],
   "source": [
    "print(duplicates['passenger_name'].unique())\n",
    "# 중복된 이름을 가진 사람들"
   ]
  },
  {
   "cell_type": "code",
   "execution_count": 21,
   "id": "70fbb734",
   "metadata": {},
   "outputs": [
    {
     "data": {
      "text/html": [
       "<div>\n",
       "<style scoped>\n",
       "    .dataframe tbody tr th:only-of-type {\n",
       "        vertical-align: middle;\n",
       "    }\n",
       "\n",
       "    .dataframe tbody tr th {\n",
       "        vertical-align: top;\n",
       "    }\n",
       "\n",
       "    .dataframe thead th {\n",
       "        text-align: right;\n",
       "    }\n",
       "</style>\n",
       "<table border=\"1\" class=\"dataframe\">\n",
       "  <thead>\n",
       "    <tr style=\"text-align: right;\">\n",
       "      <th></th>\n",
       "      <th>passenger_name</th>\n",
       "      <th>tpep_pickup_datetime</th>\n",
       "      <th>tpep_dropoff_datetime</th>\n",
       "      <th>payment_method</th>\n",
       "      <th>passenger_count</th>\n",
       "      <th>trip_distance</th>\n",
       "      <th>fare_amount</th>\n",
       "      <th>tip_amount</th>\n",
       "      <th>tolls_amount</th>\n",
       "    </tr>\n",
       "  </thead>\n",
       "  <tbody>\n",
       "    <tr>\n",
       "      <th>16</th>\n",
       "      <td>Sarah Gross</td>\n",
       "      <td>08/15/2017 7:48:08 PM</td>\n",
       "      <td>08/15/2017 8:00:37 PM</td>\n",
       "      <td>Cash</td>\n",
       "      <td>1</td>\n",
       "      <td>3.6</td>\n",
       "      <td>12.5</td>\n",
       "      <td>2.85</td>\n",
       "      <td>0.0</td>\n",
       "    </tr>\n",
       "    <tr>\n",
       "      <th>17</th>\n",
       "      <td>Sarah Gross</td>\n",
       "      <td>08/15/2017 7:48:08 PM</td>\n",
       "      <td>08/15/2017 8:00:37 PM</td>\n",
       "      <td>Cash</td>\n",
       "      <td>1</td>\n",
       "      <td>3.6</td>\n",
       "      <td>12.5</td>\n",
       "      <td>2.85</td>\n",
       "      <td>0.0</td>\n",
       "    </tr>\n",
       "  </tbody>\n",
       "</table>\n",
       "</div>"
      ],
      "text/plain": [
       "   passenger_name   tpep_pickup_datetime  tpep_dropoff_datetime  \\\n",
       "16    Sarah Gross  08/15/2017 7:48:08 PM  08/15/2017 8:00:37 PM   \n",
       "17    Sarah Gross  08/15/2017 7:48:08 PM  08/15/2017 8:00:37 PM   \n",
       "\n",
       "   payment_method  passenger_count  trip_distance  fare_amount  tip_amount  \\\n",
       "16           Cash                1            3.6         12.5        2.85   \n",
       "17           Cash                1            3.6         12.5        2.85   \n",
       "\n",
       "    tolls_amount  \n",
       "16           0.0  \n",
       "17           0.0  "
      ]
     },
     "execution_count": 21,
     "metadata": {},
     "output_type": "execute_result"
    }
   ],
   "source": [
    "data[data['passenger_name'] == 'Sarah Gross']"
   ]
  },
  {
   "cell_type": "code",
   "execution_count": 23,
   "id": "4e9730bf",
   "metadata": {},
   "outputs": [
    {
     "data": {
      "text/html": [
       "<div>\n",
       "<style scoped>\n",
       "    .dataframe tbody tr th:only-of-type {\n",
       "        vertical-align: middle;\n",
       "    }\n",
       "\n",
       "    .dataframe tbody tr th {\n",
       "        vertical-align: top;\n",
       "    }\n",
       "\n",
       "    .dataframe thead th {\n",
       "        text-align: right;\n",
       "    }\n",
       "</style>\n",
       "<table border=\"1\" class=\"dataframe\">\n",
       "  <thead>\n",
       "    <tr style=\"text-align: right;\">\n",
       "      <th></th>\n",
       "      <th>passenger_name</th>\n",
       "      <th>tpep_pickup_datetime</th>\n",
       "      <th>tpep_dropoff_datetime</th>\n",
       "      <th>payment_method</th>\n",
       "      <th>passenger_count</th>\n",
       "      <th>trip_distance</th>\n",
       "      <th>fare_amount</th>\n",
       "      <th>tip_amount</th>\n",
       "      <th>tolls_amount</th>\n",
       "    </tr>\n",
       "  </thead>\n",
       "  <tbody>\n",
       "    <tr>\n",
       "      <th>203</th>\n",
       "      <td>Lisa Bullock</td>\n",
       "      <td>02/13/2017 4:25:41 PM</td>\n",
       "      <td>02/13/2017 4:55:35 PM</td>\n",
       "      <td>Cash</td>\n",
       "      <td>1</td>\n",
       "      <td>4.2</td>\n",
       "      <td>21.0</td>\n",
       "      <td>0.0</td>\n",
       "      <td>0.0</td>\n",
       "    </tr>\n",
       "    <tr>\n",
       "      <th>204</th>\n",
       "      <td>Lisa Bullock</td>\n",
       "      <td>02/13/2017 4:25:41 PM</td>\n",
       "      <td>02/13/2017 4:55:35 PM</td>\n",
       "      <td>Cash</td>\n",
       "      <td>1</td>\n",
       "      <td>4.2</td>\n",
       "      <td>21.0</td>\n",
       "      <td>0.0</td>\n",
       "      <td>0.0</td>\n",
       "    </tr>\n",
       "  </tbody>\n",
       "</table>\n",
       "</div>"
      ],
      "text/plain": [
       "    passenger_name   tpep_pickup_datetime  tpep_dropoff_datetime  \\\n",
       "203   Lisa Bullock  02/13/2017 4:25:41 PM  02/13/2017 4:55:35 PM   \n",
       "204   Lisa Bullock  02/13/2017 4:25:41 PM  02/13/2017 4:55:35 PM   \n",
       "\n",
       "    payment_method  passenger_count  trip_distance  fare_amount  tip_amount  \\\n",
       "203           Cash                1            4.2         21.0         0.0   \n",
       "204           Cash                1            4.2         21.0         0.0   \n",
       "\n",
       "     tolls_amount  \n",
       "203           0.0  \n",
       "204           0.0  "
      ]
     },
     "execution_count": 23,
     "metadata": {},
     "output_type": "execute_result"
    }
   ],
   "source": [
    "data[data['passenger_name'] == 'Lisa Bullock']"
   ]
  },
  {
   "cell_type": "code",
   "execution_count": 25,
   "id": "d4bb60ee",
   "metadata": {},
   "outputs": [],
   "source": [
    "data = data.drop_duplicates(subset='passenger_name')\n",
    "# 중복된 이름을 가진 사람들 중 첫 번째 데이터만 남기고 나머지 삭제"
   ]
  },
  {
   "cell_type": "code",
   "execution_count": 27,
   "id": "c790af76",
   "metadata": {},
   "outputs": [
    {
     "data": {
      "text/plain": [
       "passenger_name           0\n",
       "tpep_pickup_datetime     0\n",
       "tpep_dropoff_datetime    0\n",
       "payment_method           0\n",
       "passenger_count          0\n",
       "trip_distance            0\n",
       "fare_amount              3\n",
       "tip_amount               0\n",
       "tolls_amount             0\n",
       "dtype: int64"
      ]
     },
     "execution_count": 27,
     "metadata": {},
     "output_type": "execute_result"
    }
   ],
   "source": [
    "data.isna().sum()"
   ]
  },
  {
   "cell_type": "code",
   "execution_count": null,
   "id": "a65e363c",
   "metadata": {},
   "outputs": [
    {
     "data": {
      "text/plain": [
       "passenger_name           0.00000\n",
       "tpep_pickup_datetime     0.00000\n",
       "tpep_dropoff_datetime    0.00000\n",
       "payment_method           0.00000\n",
       "passenger_count          0.00000\n",
       "trip_distance            0.00000\n",
       "fare_amount              0.00015\n",
       "tip_amount               0.00000\n",
       "tolls_amount             0.00000\n",
       "dtype: float64"
      ]
     },
     "execution_count": 30,
     "metadata": {},
     "output_type": "execute_result"
    }
   ],
   "source": [
    "data.isna().sum()"
   ]
  },
  {
   "cell_type": "code",
   "execution_count": 31,
   "id": "723319f2",
   "metadata": {},
   "outputs": [],
   "source": [
    "data.dropna(subset=['fare_amount'], inplace=True)\n",
    "# fare_amount 결측치 삭제"
   ]
  },
  {
   "cell_type": "code",
   "execution_count": 33,
   "id": "0bd324ee",
   "metadata": {},
   "outputs": [
    {
     "data": {
      "text/plain": [
       "passenger_name           0.0\n",
       "tpep_pickup_datetime     0.0\n",
       "tpep_dropoff_datetime    0.0\n",
       "payment_method           0.0\n",
       "passenger_count          0.0\n",
       "trip_distance            0.0\n",
       "fare_amount              0.0\n",
       "tip_amount               0.0\n",
       "tolls_amount             0.0\n",
       "dtype: float64"
      ]
     },
     "execution_count": 33,
     "metadata": {},
     "output_type": "execute_result"
    }
   ],
   "source": [
    "data.isna().mean()"
   ]
  },
  {
   "cell_type": "code",
   "execution_count": 35,
   "id": "3749988e",
   "metadata": {},
   "outputs": [
    {
     "data": {
      "text/plain": [
       "21754     0\n",
       "21640     0\n",
       "21218     0\n",
       "19458     0\n",
       "19219     0\n",
       "         ..\n",
       "6835      6\n",
       "21791     6\n",
       "16252     6\n",
       "21908     6\n",
       "64       36\n",
       "Name: passenger_count, Length: 20027, dtype: int64"
      ]
     },
     "execution_count": 35,
     "metadata": {},
     "output_type": "execute_result"
    }
   ],
   "source": [
    "data['passenger_count'].sort_values()"
   ]
  },
  {
   "cell_type": "code",
   "execution_count": 36,
   "id": "5e722357",
   "metadata": {},
   "outputs": [
    {
     "data": {
      "text/plain": [
       "<Axes: xlabel='None', ylabel='passenger_count'>"
      ]
     },
     "execution_count": 36,
     "metadata": {},
     "output_type": "execute_result"
    },
    {
     "data": {
      "image/png": "[encoded data removed]",
      "text/plain": [
       "<Figure size 640x480 with 1 Axes>"
      ]
     },
     "metadata": {},
     "output_type": "display_data"
    }
   ],
   "source": [
    "sns.scatterplot(x = data.index, y = data['passenger_count'])"
   ]
  },
  {
   "cell_type": "code",
   "execution_count": 38,
   "id": "c32e63bd",
   "metadata": {},
   "outputs": [],
   "source": [
    "data = data[data['passenger_count'] <= 6]"
   ]
  },
  {
   "cell_type": "code",
   "execution_count": 40,
   "id": "2e31ef5e",
   "metadata": {},
   "outputs": [
    {
     "data": {
      "text/plain": [
       "30"
      ]
     },
     "execution_count": 40,
     "metadata": {},
     "output_type": "execute_result"
    }
   ],
   "source": [
    "# passenger_count 컬럼의 이상치를 확인합니다.\n",
    "# (passenger_count가 0인 경우)\n",
    "\n",
    "len(data[data['passenger_count'] == 0])"
   ]
  },
  {
   "cell_type": "code",
   "execution_count": 42,
   "id": "beb2d4f2",
   "metadata": {},
   "outputs": [],
   "source": [
    "# passenger_count 컬럼의 이상치를 제거합니다.\n",
    "\n",
    "data = data[data['passenger_count'] != 0]"
   ]
  },
  {
   "cell_type": "code",
   "execution_count": 44,
   "id": "7755e4bc",
   "metadata": {},
   "outputs": [
    {
     "data": {
      "text/plain": [
       "<Axes: xlabel='None', ylabel='passenger_count'>"
      ]
     },
     "execution_count": 44,
     "metadata": {},
     "output_type": "execute_result"
    },
    {
     "data": {
      "image/png": "[encoded data removed]",
      "text/plain": [
       "<Figure size 640x480 with 1 Axes>"
      ]
     },
     "metadata": {},
     "output_type": "display_data"
    }
   ],
   "source": [
    "# passenger_count의 scatter plot을 다시 그려봅니다.\n",
    "\n",
    "sns.scatterplot(x = data.index, y = data['passenger_count'])"
   ]
  },
  {
   "cell_type": "code",
   "execution_count": 46,
   "id": "85e4b1a1",
   "metadata": {},
   "outputs": [
    {
     "data": {
      "text/plain": [
       "128"
      ]
     },
     "execution_count": 46,
     "metadata": {},
     "output_type": "execute_result"
    }
   ],
   "source": [
    "len(data[data['trip_distance'] == 0])"
   ]
  },
  {
   "cell_type": "code",
   "execution_count": 47,
   "id": "cddb7a73",
   "metadata": {},
   "outputs": [],
   "source": [
    "data = data[data['trip_distance'] != 0]"
   ]
  },
  {
   "cell_type": "code",
   "execution_count": 48,
   "id": "d3ca8171",
   "metadata": {},
   "outputs": [
    {
     "data": {
      "text/plain": [
       "<Axes: xlabel='trip_distance', ylabel='Count'>"
      ]
     },
     "execution_count": 48,
     "metadata": {},
     "output_type": "execute_result"
    },
    {
     "data": {
      "image/png": "[encoded data removed]",
      "text/plain": [
       "<Figure size 640x480 with 1 Axes>"
      ]
     },
     "metadata": {},
     "output_type": "display_data"
    }
   ],
   "source": [
    "sns.histplot(data['trip_distance'])"
   ]
  },
  {
   "cell_type": "code",
   "execution_count": 50,
   "id": "52919f02",
   "metadata": {},
   "outputs": [
    {
     "data": {
      "text/html": [
       "<div>\n",
       "<style scoped>\n",
       "    .dataframe tbody tr th:only-of-type {\n",
       "        vertical-align: middle;\n",
       "    }\n",
       "\n",
       "    .dataframe tbody tr th {\n",
       "        vertical-align: top;\n",
       "    }\n",
       "\n",
       "    .dataframe thead th {\n",
       "        text-align: right;\n",
       "    }\n",
       "</style>\n",
       "<table border=\"1\" class=\"dataframe\">\n",
       "  <thead>\n",
       "    <tr style=\"text-align: right;\">\n",
       "      <th></th>\n",
       "      <th>passenger_count</th>\n",
       "      <th>trip_distance</th>\n",
       "      <th>fare_amount</th>\n",
       "      <th>tip_amount</th>\n",
       "      <th>tolls_amount</th>\n",
       "    </tr>\n",
       "  </thead>\n",
       "  <tbody>\n",
       "    <tr>\n",
       "      <th>count</th>\n",
       "      <td>19868.000000</td>\n",
       "      <td>19868.000000</td>\n",
       "      <td>19868.000000</td>\n",
       "      <td>19868.000000</td>\n",
       "      <td>19868.000000</td>\n",
       "    </tr>\n",
       "    <tr>\n",
       "      <th>mean</th>\n",
       "      <td>1.644957</td>\n",
       "      <td>2.932950</td>\n",
       "      <td>12.954269</td>\n",
       "      <td>1.828035</td>\n",
       "      <td>0.310186</td>\n",
       "    </tr>\n",
       "    <tr>\n",
       "      <th>std</th>\n",
       "      <td>1.283445</td>\n",
       "      <td>3.679518</td>\n",
       "      <td>12.955164</td>\n",
       "      <td>2.817990</td>\n",
       "      <td>1.393768</td>\n",
       "    </tr>\n",
       "    <tr>\n",
       "      <th>min</th>\n",
       "      <td>1.000000</td>\n",
       "      <td>0.010000</td>\n",
       "      <td>-120.000000</td>\n",
       "      <td>0.000000</td>\n",
       "      <td>0.000000</td>\n",
       "    </tr>\n",
       "    <tr>\n",
       "      <th>25%</th>\n",
       "      <td>1.000000</td>\n",
       "      <td>1.000000</td>\n",
       "      <td>6.500000</td>\n",
       "      <td>0.000000</td>\n",
       "      <td>0.000000</td>\n",
       "    </tr>\n",
       "    <tr>\n",
       "      <th>50%</th>\n",
       "      <td>1.000000</td>\n",
       "      <td>1.620000</td>\n",
       "      <td>9.500000</td>\n",
       "      <td>1.360000</td>\n",
       "      <td>0.000000</td>\n",
       "    </tr>\n",
       "    <tr>\n",
       "      <th>75%</th>\n",
       "      <td>2.000000</td>\n",
       "      <td>3.080000</td>\n",
       "      <td>14.500000</td>\n",
       "      <td>2.370000</td>\n",
       "      <td>0.000000</td>\n",
       "    </tr>\n",
       "    <tr>\n",
       "      <th>max</th>\n",
       "      <td>6.000000</td>\n",
       "      <td>33.960000</td>\n",
       "      <td>999.990000</td>\n",
       "      <td>200.000000</td>\n",
       "      <td>19.100000</td>\n",
       "    </tr>\n",
       "  </tbody>\n",
       "</table>\n",
       "</div>"
      ],
      "text/plain": [
       "       passenger_count  trip_distance   fare_amount    tip_amount  \\\n",
       "count     19868.000000   19868.000000  19868.000000  19868.000000   \n",
       "mean          1.644957       2.932950     12.954269      1.828035   \n",
       "std           1.283445       3.679518     12.955164      2.817990   \n",
       "min           1.000000       0.010000   -120.000000      0.000000   \n",
       "25%           1.000000       1.000000      6.500000      0.000000   \n",
       "50%           1.000000       1.620000      9.500000      1.360000   \n",
       "75%           2.000000       3.080000     14.500000      2.370000   \n",
       "max           6.000000      33.960000    999.990000    200.000000   \n",
       "\n",
       "       tolls_amount  \n",
       "count  19868.000000  \n",
       "mean       0.310186  \n",
       "std        1.393768  \n",
       "min        0.000000  \n",
       "25%        0.000000  \n",
       "50%        0.000000  \n",
       "75%        0.000000  \n",
       "max       19.100000  "
      ]
     },
     "execution_count": 50,
     "metadata": {},
     "output_type": "execute_result"
    }
   ],
   "source": [
    "data.describe()"
   ]
  },
  {
   "cell_type": "code",
   "execution_count": 52,
   "id": "9f0d4ad7",
   "metadata": {},
   "outputs": [],
   "source": [
    "data = data[data['fare_amount'] != 0]\n",
    "# fare_amount의 이상치를 제거합니다."
   ]
  },
  {
   "cell_type": "code",
   "execution_count": 54,
   "id": "2ae7873c",
   "metadata": {},
   "outputs": [
    {
     "data": {
      "text/html": [
       "<div>\n",
       "<style scoped>\n",
       "    .dataframe tbody tr th:only-of-type {\n",
       "        vertical-align: middle;\n",
       "    }\n",
       "\n",
       "    .dataframe tbody tr th {\n",
       "        vertical-align: top;\n",
       "    }\n",
       "\n",
       "    .dataframe thead th {\n",
       "        text-align: right;\n",
       "    }\n",
       "</style>\n",
       "<table border=\"1\" class=\"dataframe\">\n",
       "  <thead>\n",
       "    <tr style=\"text-align: right;\">\n",
       "      <th></th>\n",
       "      <th>passenger_name</th>\n",
       "      <th>tpep_pickup_datetime</th>\n",
       "      <th>tpep_dropoff_datetime</th>\n",
       "      <th>payment_method</th>\n",
       "      <th>passenger_count</th>\n",
       "      <th>trip_distance</th>\n",
       "      <th>fare_amount</th>\n",
       "      <th>tip_amount</th>\n",
       "      <th>tolls_amount</th>\n",
       "    </tr>\n",
       "  </thead>\n",
       "  <tbody>\n",
       "    <tr>\n",
       "      <th>12946</th>\n",
       "      <td>Patrick Herring</td>\n",
       "      <td>04/08/2017 12:00:16 AM</td>\n",
       "      <td>04/08/2017 11:15:57 PM</td>\n",
       "      <td>Cash</td>\n",
       "      <td>1</td>\n",
       "      <td>0.17</td>\n",
       "      <td>-120.00</td>\n",
       "      <td>0.00</td>\n",
       "      <td>0.00</td>\n",
       "    </tr>\n",
       "    <tr>\n",
       "      <th>11206</th>\n",
       "      <td>Austin Fields</td>\n",
       "      <td>07/09/2017 7:20:59 AM</td>\n",
       "      <td>07/09/2017 7:23:50 AM</td>\n",
       "      <td>Debit Card</td>\n",
       "      <td>1</td>\n",
       "      <td>0.64</td>\n",
       "      <td>-4.50</td>\n",
       "      <td>0.00</td>\n",
       "      <td>0.00</td>\n",
       "    </tr>\n",
       "    <tr>\n",
       "      <th>20700</th>\n",
       "      <td>Nicole Pierce</td>\n",
       "      <td>02/24/2017 12:38:17 AM</td>\n",
       "      <td>02/24/2017 12:42:05 AM</td>\n",
       "      <td>Cash</td>\n",
       "      <td>1</td>\n",
       "      <td>0.70</td>\n",
       "      <td>-4.50</td>\n",
       "      <td>0.00</td>\n",
       "      <td>0.00</td>\n",
       "    </tr>\n",
       "    <tr>\n",
       "      <th>17604</th>\n",
       "      <td>Tyler Lowe</td>\n",
       "      <td>03/24/2017 7:31:13 PM</td>\n",
       "      <td>03/24/2017 7:34:49 PM</td>\n",
       "      <td>Cash</td>\n",
       "      <td>1</td>\n",
       "      <td>0.46</td>\n",
       "      <td>-4.00</td>\n",
       "      <td>0.00</td>\n",
       "      <td>0.00</td>\n",
       "    </tr>\n",
       "    <tr>\n",
       "      <th>14716</th>\n",
       "      <td>Stefanie Warner</td>\n",
       "      <td>12/24/2017 10:37:58 PM</td>\n",
       "      <td>12/24/2017 10:41:08 PM</td>\n",
       "      <td>Debit Card</td>\n",
       "      <td>5</td>\n",
       "      <td>0.40</td>\n",
       "      <td>-4.00</td>\n",
       "      <td>0.00</td>\n",
       "      <td>0.00</td>\n",
       "    </tr>\n",
       "    <tr>\n",
       "      <th>...</th>\n",
       "      <td>...</td>\n",
       "      <td>...</td>\n",
       "      <td>...</td>\n",
       "      <td>...</td>\n",
       "      <td>...</td>\n",
       "      <td>...</td>\n",
       "      <td>...</td>\n",
       "      <td>...</td>\n",
       "      <td>...</td>\n",
       "    </tr>\n",
       "    <tr>\n",
       "      <th>16381</th>\n",
       "      <td>Erica Hernandez</td>\n",
       "      <td>11/30/2017 10:41:11 AM</td>\n",
       "      <td>11/30/2017 11:31:45 AM</td>\n",
       "      <td>Cash</td>\n",
       "      <td>1</td>\n",
       "      <td>25.50</td>\n",
       "      <td>140.00</td>\n",
       "      <td>0.00</td>\n",
       "      <td>16.26</td>\n",
       "    </tr>\n",
       "    <tr>\n",
       "      <th>9282</th>\n",
       "      <td>Samantha Frederick</td>\n",
       "      <td>06/18/2017 11:33:25 PM</td>\n",
       "      <td>06/19/2017 12:12:38 AM</td>\n",
       "      <td>Cash</td>\n",
       "      <td>2</td>\n",
       "      <td>33.96</td>\n",
       "      <td>150.00</td>\n",
       "      <td>0.00</td>\n",
       "      <td>0.00</td>\n",
       "    </tr>\n",
       "    <tr>\n",
       "      <th>3584</th>\n",
       "      <td>Matthew Chavez</td>\n",
       "      <td>01/01/2017 11:53:01 PM</td>\n",
       "      <td>01/01/2017 11:53:42 PM</td>\n",
       "      <td>Credit Card</td>\n",
       "      <td>1</td>\n",
       "      <td>7.30</td>\n",
       "      <td>152.00</td>\n",
       "      <td>0.00</td>\n",
       "      <td>0.00</td>\n",
       "    </tr>\n",
       "    <tr>\n",
       "      <th>13863</th>\n",
       "      <td>William Yates</td>\n",
       "      <td>05/19/2017 8:20:21 AM</td>\n",
       "      <td>05/19/2017 9:20:30 AM</td>\n",
       "      <td>Credit Card</td>\n",
       "      <td>1</td>\n",
       "      <td>33.92</td>\n",
       "      <td>200.01</td>\n",
       "      <td>51.64</td>\n",
       "      <td>5.76</td>\n",
       "    </tr>\n",
       "    <tr>\n",
       "      <th>8478</th>\n",
       "      <td>Alexis Hanson</td>\n",
       "      <td>02/06/2017 5:50:10 AM</td>\n",
       "      <td>02/06/2017 5:51:08 AM</td>\n",
       "      <td>Credit Card</td>\n",
       "      <td>1</td>\n",
       "      <td>2.60</td>\n",
       "      <td>999.99</td>\n",
       "      <td>200.00</td>\n",
       "      <td>0.00</td>\n",
       "    </tr>\n",
       "  </tbody>\n",
       "</table>\n",
       "<p>19865 rows × 9 columns</p>\n",
       "</div>"
      ],
      "text/plain": [
       "           passenger_name    tpep_pickup_datetime   tpep_dropoff_datetime  \\\n",
       "12946     Patrick Herring  04/08/2017 12:00:16 AM  04/08/2017 11:15:57 PM   \n",
       "11206       Austin Fields   07/09/2017 7:20:59 AM   07/09/2017 7:23:50 AM   \n",
       "20700       Nicole Pierce  02/24/2017 12:38:17 AM  02/24/2017 12:42:05 AM   \n",
       "17604          Tyler Lowe   03/24/2017 7:31:13 PM   03/24/2017 7:34:49 PM   \n",
       "14716     Stefanie Warner  12/24/2017 10:37:58 PM  12/24/2017 10:41:08 PM   \n",
       "...                   ...                     ...                     ...   \n",
       "16381     Erica Hernandez  11/30/2017 10:41:11 AM  11/30/2017 11:31:45 AM   \n",
       "9282   Samantha Frederick  06/18/2017 11:33:25 PM  06/19/2017 12:12:38 AM   \n",
       "3584       Matthew Chavez  01/01/2017 11:53:01 PM  01/01/2017 11:53:42 PM   \n",
       "13863       William Yates   05/19/2017 8:20:21 AM   05/19/2017 9:20:30 AM   \n",
       "8478        Alexis Hanson   02/06/2017 5:50:10 AM   02/06/2017 5:51:08 AM   \n",
       "\n",
       "      payment_method  passenger_count  trip_distance  fare_amount  tip_amount  \\\n",
       "12946           Cash                1           0.17      -120.00        0.00   \n",
       "11206     Debit Card                1           0.64        -4.50        0.00   \n",
       "20700           Cash                1           0.70        -4.50        0.00   \n",
       "17604           Cash                1           0.46        -4.00        0.00   \n",
       "14716     Debit Card                5           0.40        -4.00        0.00   \n",
       "...              ...              ...            ...          ...         ...   \n",
       "16381           Cash                1          25.50       140.00        0.00   \n",
       "9282            Cash                2          33.96       150.00        0.00   \n",
       "3584     Credit Card                1           7.30       152.00        0.00   \n",
       "13863    Credit Card                1          33.92       200.01       51.64   \n",
       "8478     Credit Card                1           2.60       999.99      200.00   \n",
       "\n",
       "       tolls_amount  \n",
       "12946          0.00  \n",
       "11206          0.00  \n",
       "20700          0.00  \n",
       "17604          0.00  \n",
       "14716          0.00  \n",
       "...             ...  \n",
       "16381         16.26  \n",
       "9282           0.00  \n",
       "3584           0.00  \n",
       "13863          5.76  \n",
       "8478           0.00  \n",
       "\n",
       "[19865 rows x 9 columns]"
      ]
     },
     "execution_count": 54,
     "metadata": {},
     "output_type": "execute_result"
    }
   ],
   "source": [
    "data.sort_values('fare_amount')"
   ]
  },
  {
   "cell_type": "code",
   "execution_count": 55,
   "id": "fadf1aa8",
   "metadata": {},
   "outputs": [],
   "source": [
    "data = data[data['fare_amount'] != 0]\n",
    "# fare_amount의 이상치를 제거합니다."
   ]
  },
  {
   "cell_type": "code",
   "execution_count": 57,
   "id": "db95b1d6",
   "metadata": {},
   "outputs": [
    {
     "data": {
      "text/plain": [
       "<Axes: xlabel='None', ylabel='fare_amount'>"
      ]
     },
     "execution_count": 57,
     "metadata": {},
     "output_type": "execute_result"
    },
    {
     "data": {
      "image/png": "[encoded data removed]",
      "text/plain": [
       "<Figure size 640x480 with 1 Axes>"
      ]
     },
     "metadata": {},
     "output_type": "display_data"
    }
   ],
   "source": [
    "sns.scatterplot(x = data.index, y = data['fare_amount'])\n",
    "# fare_amount의 scatter plot을 다시 그려봅니다."
   ]
  },
  {
   "cell_type": "code",
   "execution_count": 58,
   "id": "013e50f7",
   "metadata": {},
   "outputs": [
    {
     "data": {
      "text/plain": [
       "<Axes: xlabel='fare_amount', ylabel='None'>"
      ]
     },
     "execution_count": 58,
     "metadata": {},
     "output_type": "execute_result"
    },
    {
     "data": {
      "image/png": "[encoded data removed]",
      "text/plain": [
       "<Figure size 640x480 with 1 Axes>"
      ]
     },
     "metadata": {},
     "output_type": "display_data"
    }
   ],
   "source": [
    "sns.scatterplot(y = data.index, x = data['fare_amount'])\n",
    "# fare_amount의 scatter plot을 다시 그려봅니다."
   ]
  },
  {
   "cell_type": "code",
   "execution_count": 59,
   "id": "f0c9c0cb",
   "metadata": {},
   "outputs": [],
   "source": [
    "# fare_amount가 150을 초과한다면 150으로 변환합니다.\n",
    "\n",
    "def fare_func(x):\n",
    "    if x > 150:\n",
    "        return 150\n",
    "    else:\n",
    "        return x"
   ]
  },
  {
   "cell_type": "code",
   "execution_count": 60,
   "id": "8fe15d43",
   "metadata": {},
   "outputs": [
    {
     "data": {
      "text/plain": [
       "0        13.0\n",
       "1        16.0\n",
       "2         6.5\n",
       "3        20.5\n",
       "4        16.5\n",
       "         ... \n",
       "22695     7.5\n",
       "22697    52.0\n",
       "22698     4.5\n",
       "22699    10.5\n",
       "22700    11.0\n",
       "Name: fare_amount, Length: 19865, dtype: float64"
      ]
     },
     "execution_count": 60,
     "metadata": {},
     "output_type": "execute_result"
    }
   ],
   "source": [
    "data['fare_amount'].apply(fare_func)"
   ]
  },
  {
   "cell_type": "code",
   "execution_count": 62,
   "id": "aab56216",
   "metadata": {},
   "outputs": [],
   "source": [
    "data['fare_amount'] = data['fare_amount'].apply(lambda x: 150 if x > 150 else x)"
   ]
  },
  {
   "cell_type": "code",
   "execution_count": 63,
   "id": "2ef4bff8",
   "metadata": {},
   "outputs": [
    {
     "data": {
      "text/html": [
       "<div>\n",
       "<style scoped>\n",
       "    .dataframe tbody tr th:only-of-type {\n",
       "        vertical-align: middle;\n",
       "    }\n",
       "\n",
       "    .dataframe tbody tr th {\n",
       "        vertical-align: top;\n",
       "    }\n",
       "\n",
       "    .dataframe thead th {\n",
       "        text-align: right;\n",
       "    }\n",
       "</style>\n",
       "<table border=\"1\" class=\"dataframe\">\n",
       "  <thead>\n",
       "    <tr style=\"text-align: right;\">\n",
       "      <th></th>\n",
       "      <th>passenger_name</th>\n",
       "      <th>tpep_pickup_datetime</th>\n",
       "      <th>tpep_dropoff_datetime</th>\n",
       "      <th>payment_method</th>\n",
       "      <th>passenger_count</th>\n",
       "      <th>trip_distance</th>\n",
       "      <th>fare_amount</th>\n",
       "      <th>tip_amount</th>\n",
       "      <th>tolls_amount</th>\n",
       "    </tr>\n",
       "  </thead>\n",
       "  <tbody>\n",
       "    <tr>\n",
       "      <th>12946</th>\n",
       "      <td>Patrick Herring</td>\n",
       "      <td>04/08/2017 12:00:16 AM</td>\n",
       "      <td>04/08/2017 11:15:57 PM</td>\n",
       "      <td>Cash</td>\n",
       "      <td>1</td>\n",
       "      <td>0.17</td>\n",
       "      <td>-120.0</td>\n",
       "      <td>0.00</td>\n",
       "      <td>0.00</td>\n",
       "    </tr>\n",
       "    <tr>\n",
       "      <th>11206</th>\n",
       "      <td>Austin Fields</td>\n",
       "      <td>07/09/2017 7:20:59 AM</td>\n",
       "      <td>07/09/2017 7:23:50 AM</td>\n",
       "      <td>Debit Card</td>\n",
       "      <td>1</td>\n",
       "      <td>0.64</td>\n",
       "      <td>-4.5</td>\n",
       "      <td>0.00</td>\n",
       "      <td>0.00</td>\n",
       "    </tr>\n",
       "    <tr>\n",
       "      <th>20700</th>\n",
       "      <td>Nicole Pierce</td>\n",
       "      <td>02/24/2017 12:38:17 AM</td>\n",
       "      <td>02/24/2017 12:42:05 AM</td>\n",
       "      <td>Cash</td>\n",
       "      <td>1</td>\n",
       "      <td>0.70</td>\n",
       "      <td>-4.5</td>\n",
       "      <td>0.00</td>\n",
       "      <td>0.00</td>\n",
       "    </tr>\n",
       "    <tr>\n",
       "      <th>17604</th>\n",
       "      <td>Tyler Lowe</td>\n",
       "      <td>03/24/2017 7:31:13 PM</td>\n",
       "      <td>03/24/2017 7:34:49 PM</td>\n",
       "      <td>Cash</td>\n",
       "      <td>1</td>\n",
       "      <td>0.46</td>\n",
       "      <td>-4.0</td>\n",
       "      <td>0.00</td>\n",
       "      <td>0.00</td>\n",
       "    </tr>\n",
       "    <tr>\n",
       "      <th>14716</th>\n",
       "      <td>Stefanie Warner</td>\n",
       "      <td>12/24/2017 10:37:58 PM</td>\n",
       "      <td>12/24/2017 10:41:08 PM</td>\n",
       "      <td>Debit Card</td>\n",
       "      <td>5</td>\n",
       "      <td>0.40</td>\n",
       "      <td>-4.0</td>\n",
       "      <td>0.00</td>\n",
       "      <td>0.00</td>\n",
       "    </tr>\n",
       "    <tr>\n",
       "      <th>...</th>\n",
       "      <td>...</td>\n",
       "      <td>...</td>\n",
       "      <td>...</td>\n",
       "      <td>...</td>\n",
       "      <td>...</td>\n",
       "      <td>...</td>\n",
       "      <td>...</td>\n",
       "      <td>...</td>\n",
       "      <td>...</td>\n",
       "    </tr>\n",
       "    <tr>\n",
       "      <th>16381</th>\n",
       "      <td>Erica Hernandez</td>\n",
       "      <td>11/30/2017 10:41:11 AM</td>\n",
       "      <td>11/30/2017 11:31:45 AM</td>\n",
       "      <td>Cash</td>\n",
       "      <td>1</td>\n",
       "      <td>25.50</td>\n",
       "      <td>140.0</td>\n",
       "      <td>0.00</td>\n",
       "      <td>16.26</td>\n",
       "    </tr>\n",
       "    <tr>\n",
       "      <th>3584</th>\n",
       "      <td>Matthew Chavez</td>\n",
       "      <td>01/01/2017 11:53:01 PM</td>\n",
       "      <td>01/01/2017 11:53:42 PM</td>\n",
       "      <td>Credit Card</td>\n",
       "      <td>1</td>\n",
       "      <td>7.30</td>\n",
       "      <td>150.0</td>\n",
       "      <td>0.00</td>\n",
       "      <td>0.00</td>\n",
       "    </tr>\n",
       "    <tr>\n",
       "      <th>13863</th>\n",
       "      <td>William Yates</td>\n",
       "      <td>05/19/2017 8:20:21 AM</td>\n",
       "      <td>05/19/2017 9:20:30 AM</td>\n",
       "      <td>Credit Card</td>\n",
       "      <td>1</td>\n",
       "      <td>33.92</td>\n",
       "      <td>150.0</td>\n",
       "      <td>51.64</td>\n",
       "      <td>5.76</td>\n",
       "    </tr>\n",
       "    <tr>\n",
       "      <th>9282</th>\n",
       "      <td>Samantha Frederick</td>\n",
       "      <td>06/18/2017 11:33:25 PM</td>\n",
       "      <td>06/19/2017 12:12:38 AM</td>\n",
       "      <td>Cash</td>\n",
       "      <td>2</td>\n",
       "      <td>33.96</td>\n",
       "      <td>150.0</td>\n",
       "      <td>0.00</td>\n",
       "      <td>0.00</td>\n",
       "    </tr>\n",
       "    <tr>\n",
       "      <th>8478</th>\n",
       "      <td>Alexis Hanson</td>\n",
       "      <td>02/06/2017 5:50:10 AM</td>\n",
       "      <td>02/06/2017 5:51:08 AM</td>\n",
       "      <td>Credit Card</td>\n",
       "      <td>1</td>\n",
       "      <td>2.60</td>\n",
       "      <td>150.0</td>\n",
       "      <td>200.00</td>\n",
       "      <td>0.00</td>\n",
       "    </tr>\n",
       "  </tbody>\n",
       "</table>\n",
       "<p>19865 rows × 9 columns</p>\n",
       "</div>"
      ],
      "text/plain": [
       "           passenger_name    tpep_pickup_datetime   tpep_dropoff_datetime  \\\n",
       "12946     Patrick Herring  04/08/2017 12:00:16 AM  04/08/2017 11:15:57 PM   \n",
       "11206       Austin Fields   07/09/2017 7:20:59 AM   07/09/2017 7:23:50 AM   \n",
       "20700       Nicole Pierce  02/24/2017 12:38:17 AM  02/24/2017 12:42:05 AM   \n",
       "17604          Tyler Lowe   03/24/2017 7:31:13 PM   03/24/2017 7:34:49 PM   \n",
       "14716     Stefanie Warner  12/24/2017 10:37:58 PM  12/24/2017 10:41:08 PM   \n",
       "...                   ...                     ...                     ...   \n",
       "16381     Erica Hernandez  11/30/2017 10:41:11 AM  11/30/2017 11:31:45 AM   \n",
       "3584       Matthew Chavez  01/01/2017 11:53:01 PM  01/01/2017 11:53:42 PM   \n",
       "13863       William Yates   05/19/2017 8:20:21 AM   05/19/2017 9:20:30 AM   \n",
       "9282   Samantha Frederick  06/18/2017 11:33:25 PM  06/19/2017 12:12:38 AM   \n",
       "8478        Alexis Hanson   02/06/2017 5:50:10 AM   02/06/2017 5:51:08 AM   \n",
       "\n",
       "      payment_method  passenger_count  trip_distance  fare_amount  tip_amount  \\\n",
       "12946           Cash                1           0.17       -120.0        0.00   \n",
       "11206     Debit Card                1           0.64         -4.5        0.00   \n",
       "20700           Cash                1           0.70         -4.5        0.00   \n",
       "17604           Cash                1           0.46         -4.0        0.00   \n",
       "14716     Debit Card                5           0.40         -4.0        0.00   \n",
       "...              ...              ...            ...          ...         ...   \n",
       "16381           Cash                1          25.50        140.0        0.00   \n",
       "3584     Credit Card                1           7.30        150.0        0.00   \n",
       "13863    Credit Card                1          33.92        150.0       51.64   \n",
       "9282            Cash                2          33.96        150.0        0.00   \n",
       "8478     Credit Card                1           2.60        150.0      200.00   \n",
       "\n",
       "       tolls_amount  \n",
       "12946          0.00  \n",
       "11206          0.00  \n",
       "20700          0.00  \n",
       "17604          0.00  \n",
       "14716          0.00  \n",
       "...             ...  \n",
       "16381         16.26  \n",
       "3584           0.00  \n",
       "13863          5.76  \n",
       "9282           0.00  \n",
       "8478           0.00  \n",
       "\n",
       "[19865 rows x 9 columns]"
      ]
     },
     "execution_count": 63,
     "metadata": {},
     "output_type": "execute_result"
    }
   ],
   "source": [
    "data.sort_values('fare_amount')"
   ]
  },
  {
   "cell_type": "code",
   "execution_count": 64,
   "id": "4a3ba474",
   "metadata": {},
   "outputs": [
    {
     "data": {
      "text/plain": [
       "<Axes: xlabel='None', ylabel='tip_amount'>"
      ]
     },
     "execution_count": 64,
     "metadata": {},
     "output_type": "execute_result"
    },
    {
     "data": {
      "image/png": "[encoded data removed]",
      "text/plain": [
       "<Figure size 640x480 with 1 Axes>"
      ]
     },
     "metadata": {},
     "output_type": "display_data"
    }
   ],
   "source": [
    "sns.scatterplot(x = data.index, y = data['tip_amount'])"
   ]
  },
  {
   "cell_type": "code",
   "execution_count": 66,
   "id": "d8ce3f8c",
   "metadata": {},
   "outputs": [
    {
     "data": {
      "text/plain": [
       "7004"
      ]
     },
     "execution_count": 66,
     "metadata": {},
     "output_type": "execute_result"
    }
   ],
   "source": [
    "len(data[data['tip_amount'] == 0])"
   ]
  },
  {
   "cell_type": "code",
   "execution_count": 67,
   "id": "29862c1c",
   "metadata": {},
   "outputs": [],
   "source": [
    "data = data[data['tip_amount'] != 0]"
   ]
  },
  {
   "cell_type": "code",
   "execution_count": 68,
   "id": "5f622d66",
   "metadata": {},
   "outputs": [
    {
     "data": {
      "text/plain": [
       "12861"
      ]
     },
     "execution_count": 68,
     "metadata": {},
     "output_type": "execute_result"
    }
   ],
   "source": [
    "len(data)"
   ]
  },
  {
   "cell_type": "code",
   "execution_count": 69,
   "id": "8b4925c9",
   "metadata": {},
   "outputs": [
    {
     "data": {
      "text/plain": [
       "<Axes: xlabel='None', ylabel='tolls_amount'>"
      ]
     },
     "execution_count": 69,
     "metadata": {},
     "output_type": "execute_result"
    },
    {
     "data": {
      "image/png": "[encoded data removed]",
      "text/plain": [
       "<Figure size 640x480 with 1 Axes>"
      ]
     },
     "metadata": {},
     "output_type": "display_data"
    }
   ],
   "source": [
    "sns.scatterplot(x = data.index, y = data['tolls_amount'])"
   ]
  },
  {
   "cell_type": "code",
   "execution_count": 70,
   "id": "4c346632",
   "metadata": {},
   "outputs": [
    {
     "data": {
      "text/html": [
       "<div>\n",
       "<style scoped>\n",
       "    .dataframe tbody tr th:only-of-type {\n",
       "        vertical-align: middle;\n",
       "    }\n",
       "\n",
       "    .dataframe tbody tr th {\n",
       "        vertical-align: top;\n",
       "    }\n",
       "\n",
       "    .dataframe thead th {\n",
       "        text-align: right;\n",
       "    }\n",
       "</style>\n",
       "<table border=\"1\" class=\"dataframe\">\n",
       "  <thead>\n",
       "    <tr style=\"text-align: right;\">\n",
       "      <th></th>\n",
       "      <th>passenger_name</th>\n",
       "      <th>tpep_pickup_datetime</th>\n",
       "      <th>tpep_dropoff_datetime</th>\n",
       "      <th>payment_method</th>\n",
       "      <th>passenger_count</th>\n",
       "      <th>trip_distance</th>\n",
       "      <th>fare_amount</th>\n",
       "      <th>tip_amount</th>\n",
       "      <th>tolls_amount</th>\n",
       "    </tr>\n",
       "  </thead>\n",
       "  <tbody>\n",
       "    <tr>\n",
       "      <th>0</th>\n",
       "      <td>Pamela Duffy</td>\n",
       "      <td>03/25/2017 8:55:43 AM</td>\n",
       "      <td>03/25/2017 9:09:47 AM</td>\n",
       "      <td>Debit Card</td>\n",
       "      <td>6</td>\n",
       "      <td>3.34</td>\n",
       "      <td>13.00</td>\n",
       "      <td>2.76</td>\n",
       "      <td>0.00</td>\n",
       "    </tr>\n",
       "    <tr>\n",
       "      <th>1</th>\n",
       "      <td>Michelle Foster</td>\n",
       "      <td>04/11/2017 2:53:28 PM</td>\n",
       "      <td>04/11/2017 3:19:58 PM</td>\n",
       "      <td>Debit Card</td>\n",
       "      <td>1</td>\n",
       "      <td>1.80</td>\n",
       "      <td>16.00</td>\n",
       "      <td>4.00</td>\n",
       "      <td>0.00</td>\n",
       "    </tr>\n",
       "    <tr>\n",
       "      <th>2</th>\n",
       "      <td>Tina Combs</td>\n",
       "      <td>12/15/2017 7:26:56 AM</td>\n",
       "      <td>12/15/2017 7:34:08 AM</td>\n",
       "      <td>Debit Card</td>\n",
       "      <td>1</td>\n",
       "      <td>1.00</td>\n",
       "      <td>6.50</td>\n",
       "      <td>1.45</td>\n",
       "      <td>0.00</td>\n",
       "    </tr>\n",
       "    <tr>\n",
       "      <th>3</th>\n",
       "      <td>Anthony Ray</td>\n",
       "      <td>05/07/2017 1:17:59 PM</td>\n",
       "      <td>05/07/2017 1:48:14 PM</td>\n",
       "      <td>Cash</td>\n",
       "      <td>1</td>\n",
       "      <td>3.70</td>\n",
       "      <td>20.50</td>\n",
       "      <td>6.39</td>\n",
       "      <td>0.00</td>\n",
       "    </tr>\n",
       "    <tr>\n",
       "      <th>5</th>\n",
       "      <td>Justin Smith</td>\n",
       "      <td>03/25/2017 8:34:11 PM</td>\n",
       "      <td>03/25/2017 8:42:11 PM</td>\n",
       "      <td>Debit Card</td>\n",
       "      <td>6</td>\n",
       "      <td>2.30</td>\n",
       "      <td>9.00</td>\n",
       "      <td>2.06</td>\n",
       "      <td>0.00</td>\n",
       "    </tr>\n",
       "    <tr>\n",
       "      <th>6</th>\n",
       "      <td>Tonya Moreno</td>\n",
       "      <td>05/03/2017 7:04:09 PM</td>\n",
       "      <td>05/03/2017 8:03:47 PM</td>\n",
       "      <td>Cash</td>\n",
       "      <td>1</td>\n",
       "      <td>12.83</td>\n",
       "      <td>47.50</td>\n",
       "      <td>9.86</td>\n",
       "      <td>0.00</td>\n",
       "    </tr>\n",
       "    <tr>\n",
       "      <th>7</th>\n",
       "      <td>Hannah Foley</td>\n",
       "      <td>08/15/2017 5:41:06 PM</td>\n",
       "      <td>08/15/2017 6:03:05 PM</td>\n",
       "      <td>Debit Card</td>\n",
       "      <td>1</td>\n",
       "      <td>2.98</td>\n",
       "      <td>16.00</td>\n",
       "      <td>1.78</td>\n",
       "      <td>0.00</td>\n",
       "    </tr>\n",
       "    <tr>\n",
       "      <th>9</th>\n",
       "      <td>Amanda Jones</td>\n",
       "      <td>11/10/2017 3:20:29 PM</td>\n",
       "      <td>11/10/2017 3:40:55 PM</td>\n",
       "      <td>Cash</td>\n",
       "      <td>1</td>\n",
       "      <td>1.60</td>\n",
       "      <td>13.00</td>\n",
       "      <td>2.75</td>\n",
       "      <td>0.00</td>\n",
       "    </tr>\n",
       "    <tr>\n",
       "      <th>10</th>\n",
       "      <td>Cory Jensen</td>\n",
       "      <td>03/04/2017 11:58:00 AM</td>\n",
       "      <td>03/04/2017 12:13:12 PM</td>\n",
       "      <td>Cash</td>\n",
       "      <td>1</td>\n",
       "      <td>1.77</td>\n",
       "      <td>11.50</td>\n",
       "      <td>2.46</td>\n",
       "      <td>0.00</td>\n",
       "    </tr>\n",
       "    <tr>\n",
       "      <th>11</th>\n",
       "      <td>Jamie Brown</td>\n",
       "      <td>03/05/2017 7:15:30 PM</td>\n",
       "      <td>03/05/2017 7:52:18 PM</td>\n",
       "      <td>Debit Card</td>\n",
       "      <td>2</td>\n",
       "      <td>18.90</td>\n",
       "      <td>52.00</td>\n",
       "      <td>14.58</td>\n",
       "      <td>5.54</td>\n",
       "    </tr>\n",
       "    <tr>\n",
       "      <th>12</th>\n",
       "      <td>Ryan Reyes</td>\n",
       "      <td>06/09/2017 7:00:26 PM</td>\n",
       "      <td>06/09/2017 7:20:11 PM</td>\n",
       "      <td>Debit Card</td>\n",
       "      <td>1</td>\n",
       "      <td>3.00</td>\n",
       "      <td>15.00</td>\n",
       "      <td>3.35</td>\n",
       "      <td>0.00</td>\n",
       "    </tr>\n",
       "    <tr>\n",
       "      <th>13</th>\n",
       "      <td>Jessica Mooney</td>\n",
       "      <td>11/06/2017 11:35:05 PM</td>\n",
       "      <td>11/06/2017 11:42:57 PM</td>\n",
       "      <td>Credit Card</td>\n",
       "      <td>1</td>\n",
       "      <td>2.39</td>\n",
       "      <td>9.50</td>\n",
       "      <td>2.16</td>\n",
       "      <td>0.00</td>\n",
       "    </tr>\n",
       "    <tr>\n",
       "      <th>14</th>\n",
       "      <td>Heidi May</td>\n",
       "      <td>02/22/2017 3:18:31 PM</td>\n",
       "      <td>02/22/2017 3:42:50 PM</td>\n",
       "      <td>Cash</td>\n",
       "      <td>1</td>\n",
       "      <td>3.30</td>\n",
       "      <td>17.50</td>\n",
       "      <td>4.55</td>\n",
       "      <td>0.00</td>\n",
       "    </tr>\n",
       "    <tr>\n",
       "      <th>15</th>\n",
       "      <td>Anthony Richard</td>\n",
       "      <td>06/02/2017 6:41:39 AM</td>\n",
       "      <td>06/02/2017 6:57:47 AM</td>\n",
       "      <td>Credit Card</td>\n",
       "      <td>1</td>\n",
       "      <td>5.93</td>\n",
       "      <td>19.00</td>\n",
       "      <td>3.00</td>\n",
       "      <td>0.00</td>\n",
       "    </tr>\n",
       "    <tr>\n",
       "      <th>16</th>\n",
       "      <td>Sarah Gross</td>\n",
       "      <td>08/15/2017 7:48:08 PM</td>\n",
       "      <td>08/15/2017 8:00:37 PM</td>\n",
       "      <td>Cash</td>\n",
       "      <td>1</td>\n",
       "      <td>3.60</td>\n",
       "      <td>12.50</td>\n",
       "      <td>2.85</td>\n",
       "      <td>0.00</td>\n",
       "    </tr>\n",
       "    <tr>\n",
       "      <th>20</th>\n",
       "      <td>Zachary James</td>\n",
       "      <td>03/05/2017 4:01:07 AM</td>\n",
       "      <td>03/05/2017 4:14:11 AM</td>\n",
       "      <td>Credit Card</td>\n",
       "      <td>2</td>\n",
       "      <td>2.77</td>\n",
       "      <td>11.50</td>\n",
       "      <td>3.20</td>\n",
       "      <td>0.00</td>\n",
       "    </tr>\n",
       "    <tr>\n",
       "      <th>22</th>\n",
       "      <td>Jacqueline Mclean DVM</td>\n",
       "      <td>10/11/2017 12:34:49 PM</td>\n",
       "      <td>10/11/2017 1:22:38 PM</td>\n",
       "      <td>Debit Card</td>\n",
       "      <td>1</td>\n",
       "      <td>12.30</td>\n",
       "      <td>68.25</td>\n",
       "      <td>12.00</td>\n",
       "      <td>16.26</td>\n",
       "    </tr>\n",
       "    <tr>\n",
       "      <th>23</th>\n",
       "      <td>Krista Stewart</td>\n",
       "      <td>01/06/2017 8:12:07 PM</td>\n",
       "      <td>01/06/2017 8:18:37 PM</td>\n",
       "      <td>Cash</td>\n",
       "      <td>1</td>\n",
       "      <td>0.52</td>\n",
       "      <td>5.50</td>\n",
       "      <td>1.00</td>\n",
       "      <td>0.00</td>\n",
       "    </tr>\n",
       "    <tr>\n",
       "      <th>24</th>\n",
       "      <td>Mike Taylor</td>\n",
       "      <td>06/27/2017 12:08:22 AM</td>\n",
       "      <td>06/27/2017 12:13:45 AM</td>\n",
       "      <td>Credit Card</td>\n",
       "      <td>1</td>\n",
       "      <td>1.70</td>\n",
       "      <td>7.00</td>\n",
       "      <td>2.05</td>\n",
       "      <td>0.00</td>\n",
       "    </tr>\n",
       "    <tr>\n",
       "      <th>25</th>\n",
       "      <td>Heather Johnson</td>\n",
       "      <td>02/13/2017 10:29:33 AM</td>\n",
       "      <td>02/13/2017 10:34:11 AM</td>\n",
       "      <td>Cash</td>\n",
       "      <td>1</td>\n",
       "      <td>0.90</td>\n",
       "      <td>5.50</td>\n",
       "      <td>1.25</td>\n",
       "      <td>0.00</td>\n",
       "    </tr>\n",
       "    <tr>\n",
       "      <th>26</th>\n",
       "      <td>Tiffany Ramirez</td>\n",
       "      <td>01/14/2017 7:58:42 PM</td>\n",
       "      <td>01/14/2017 8:05:59 PM</td>\n",
       "      <td>Debit Card</td>\n",
       "      <td>1</td>\n",
       "      <td>1.72</td>\n",
       "      <td>8.00</td>\n",
       "      <td>2.79</td>\n",
       "      <td>0.00</td>\n",
       "    </tr>\n",
       "    <tr>\n",
       "      <th>27</th>\n",
       "      <td>James Taylor</td>\n",
       "      <td>11/04/2017 1:27:59 AM</td>\n",
       "      <td>11/04/2017 1:44:05 AM</td>\n",
       "      <td>Credit Card</td>\n",
       "      <td>1</td>\n",
       "      <td>2.70</td>\n",
       "      <td>13.00</td>\n",
       "      <td>2.85</td>\n",
       "      <td>0.00</td>\n",
       "    </tr>\n",
       "    <tr>\n",
       "      <th>29</th>\n",
       "      <td>Janet Hogan MD</td>\n",
       "      <td>11/22/2017 10:24:17 AM</td>\n",
       "      <td>11/22/2017 10:38:52 AM</td>\n",
       "      <td>Cash</td>\n",
       "      <td>1</td>\n",
       "      <td>2.30</td>\n",
       "      <td>11.00</td>\n",
       "      <td>2.35</td>\n",
       "      <td>0.00</td>\n",
       "    </tr>\n",
       "    <tr>\n",
       "      <th>30</th>\n",
       "      <td>David Burton</td>\n",
       "      <td>11/06/2017 8:30:50 PM</td>\n",
       "      <td>11/07/2017 12:00:00 AM</td>\n",
       "      <td>Credit Card</td>\n",
       "      <td>1</td>\n",
       "      <td>30.83</td>\n",
       "      <td>80.00</td>\n",
       "      <td>18.56</td>\n",
       "      <td>11.52</td>\n",
       "    </tr>\n",
       "    <tr>\n",
       "      <th>31</th>\n",
       "      <td>Jessica Cohen</td>\n",
       "      <td>08/09/2017 9:01:50 PM</td>\n",
       "      <td>08/09/2017 9:14:28 PM</td>\n",
       "      <td>Cash</td>\n",
       "      <td>1</td>\n",
       "      <td>2.30</td>\n",
       "      <td>10.50</td>\n",
       "      <td>1.77</td>\n",
       "      <td>0.00</td>\n",
       "    </tr>\n",
       "    <tr>\n",
       "      <th>34</th>\n",
       "      <td>Adrienne Mitchell</td>\n",
       "      <td>10/26/2017 7:43:07 PM</td>\n",
       "      <td>10/26/2017 8:06:02 PM</td>\n",
       "      <td>Cash</td>\n",
       "      <td>1</td>\n",
       "      <td>2.90</td>\n",
       "      <td>15.50</td>\n",
       "      <td>3.45</td>\n",
       "      <td>0.00</td>\n",
       "    </tr>\n",
       "    <tr>\n",
       "      <th>35</th>\n",
       "      <td>Michael Murphy</td>\n",
       "      <td>03/04/2017 6:19:04 PM</td>\n",
       "      <td>03/04/2017 6:32:13 PM</td>\n",
       "      <td>Credit Card</td>\n",
       "      <td>1</td>\n",
       "      <td>1.70</td>\n",
       "      <td>10.50</td>\n",
       "      <td>1.70</td>\n",
       "      <td>0.00</td>\n",
       "    </tr>\n",
       "    <tr>\n",
       "      <th>38</th>\n",
       "      <td>Craig Cook</td>\n",
       "      <td>02/23/2017 8:04:57 AM</td>\n",
       "      <td>02/23/2017 8:18:48 AM</td>\n",
       "      <td>Cash</td>\n",
       "      <td>1</td>\n",
       "      <td>2.11</td>\n",
       "      <td>11.50</td>\n",
       "      <td>2.46</td>\n",
       "      <td>0.00</td>\n",
       "    </tr>\n",
       "    <tr>\n",
       "      <th>39</th>\n",
       "      <td>Amanda Burns MD</td>\n",
       "      <td>02/12/2017 6:45:41 PM</td>\n",
       "      <td>02/12/2017 6:48:58 PM</td>\n",
       "      <td>Cash</td>\n",
       "      <td>4</td>\n",
       "      <td>0.40</td>\n",
       "      <td>4.00</td>\n",
       "      <td>0.72</td>\n",
       "      <td>0.00</td>\n",
       "    </tr>\n",
       "    <tr>\n",
       "      <th>40</th>\n",
       "      <td>Gregory Stevens</td>\n",
       "      <td>12/08/2017 12:21:55 PM</td>\n",
       "      <td>12/08/2017 12:30:38 PM</td>\n",
       "      <td>Cash</td>\n",
       "      <td>1</td>\n",
       "      <td>1.28</td>\n",
       "      <td>7.50</td>\n",
       "      <td>5.00</td>\n",
       "      <td>0.00</td>\n",
       "    </tr>\n",
       "  </tbody>\n",
       "</table>\n",
       "</div>"
      ],
      "text/plain": [
       "           passenger_name    tpep_pickup_datetime   tpep_dropoff_datetime  \\\n",
       "0            Pamela Duffy   03/25/2017 8:55:43 AM   03/25/2017 9:09:47 AM   \n",
       "1         Michelle Foster   04/11/2017 2:53:28 PM   04/11/2017 3:19:58 PM   \n",
       "2              Tina Combs   12/15/2017 7:26:56 AM   12/15/2017 7:34:08 AM   \n",
       "3             Anthony Ray   05/07/2017 1:17:59 PM   05/07/2017 1:48:14 PM   \n",
       "5            Justin Smith   03/25/2017 8:34:11 PM   03/25/2017 8:42:11 PM   \n",
       "6            Tonya Moreno   05/03/2017 7:04:09 PM   05/03/2017 8:03:47 PM   \n",
       "7            Hannah Foley   08/15/2017 5:41:06 PM   08/15/2017 6:03:05 PM   \n",
       "9            Amanda Jones   11/10/2017 3:20:29 PM   11/10/2017 3:40:55 PM   \n",
       "10            Cory Jensen  03/04/2017 11:58:00 AM  03/04/2017 12:13:12 PM   \n",
       "11            Jamie Brown   03/05/2017 7:15:30 PM   03/05/2017 7:52:18 PM   \n",
       "12             Ryan Reyes   06/09/2017 7:00:26 PM   06/09/2017 7:20:11 PM   \n",
       "13         Jessica Mooney  11/06/2017 11:35:05 PM  11/06/2017 11:42:57 PM   \n",
       "14              Heidi May   02/22/2017 3:18:31 PM   02/22/2017 3:42:50 PM   \n",
       "15        Anthony Richard   06/02/2017 6:41:39 AM   06/02/2017 6:57:47 AM   \n",
       "16            Sarah Gross   08/15/2017 7:48:08 PM   08/15/2017 8:00:37 PM   \n",
       "20          Zachary James   03/05/2017 4:01:07 AM   03/05/2017 4:14:11 AM   \n",
       "22  Jacqueline Mclean DVM  10/11/2017 12:34:49 PM   10/11/2017 1:22:38 PM   \n",
       "23         Krista Stewart   01/06/2017 8:12:07 PM   01/06/2017 8:18:37 PM   \n",
       "24            Mike Taylor  06/27/2017 12:08:22 AM  06/27/2017 12:13:45 AM   \n",
       "25        Heather Johnson  02/13/2017 10:29:33 AM  02/13/2017 10:34:11 AM   \n",
       "26        Tiffany Ramirez   01/14/2017 7:58:42 PM   01/14/2017 8:05:59 PM   \n",
       "27           James Taylor   11/04/2017 1:27:59 AM   11/04/2017 1:44:05 AM   \n",
       "29         Janet Hogan MD  11/22/2017 10:24:17 AM  11/22/2017 10:38:52 AM   \n",
       "30           David Burton   11/06/2017 8:30:50 PM  11/07/2017 12:00:00 AM   \n",
       "31          Jessica Cohen   08/09/2017 9:01:50 PM   08/09/2017 9:14:28 PM   \n",
       "34      Adrienne Mitchell   10/26/2017 7:43:07 PM   10/26/2017 8:06:02 PM   \n",
       "35         Michael Murphy   03/04/2017 6:19:04 PM   03/04/2017 6:32:13 PM   \n",
       "38             Craig Cook   02/23/2017 8:04:57 AM   02/23/2017 8:18:48 AM   \n",
       "39        Amanda Burns MD   02/12/2017 6:45:41 PM   02/12/2017 6:48:58 PM   \n",
       "40        Gregory Stevens  12/08/2017 12:21:55 PM  12/08/2017 12:30:38 PM   \n",
       "\n",
       "   payment_method  passenger_count  trip_distance  fare_amount  tip_amount  \\\n",
       "0      Debit Card                6           3.34        13.00        2.76   \n",
       "1      Debit Card                1           1.80        16.00        4.00   \n",
       "2      Debit Card                1           1.00         6.50        1.45   \n",
       "3            Cash                1           3.70        20.50        6.39   \n",
       "5      Debit Card                6           2.30         9.00        2.06   \n",
       "6            Cash                1          12.83        47.50        9.86   \n",
       "7      Debit Card                1           2.98        16.00        1.78   \n",
       "9            Cash                1           1.60        13.00        2.75   \n",
       "10           Cash                1           1.77        11.50        2.46   \n",
       "11     Debit Card                2          18.90        52.00       14.58   \n",
       "12     Debit Card                1           3.00        15.00        3.35   \n",
       "13    Credit Card                1           2.39         9.50        2.16   \n",
       "14           Cash                1           3.30        17.50        4.55   \n",
       "15    Credit Card                1           5.93        19.00        3.00   \n",
       "16           Cash                1           3.60        12.50        2.85   \n",
       "20    Credit Card                2           2.77        11.50        3.20   \n",
       "22     Debit Card                1          12.30        68.25       12.00   \n",
       "23           Cash                1           0.52         5.50        1.00   \n",
       "24    Credit Card                1           1.70         7.00        2.05   \n",
       "25           Cash                1           0.90         5.50        1.25   \n",
       "26     Debit Card                1           1.72         8.00        2.79   \n",
       "27    Credit Card                1           2.70        13.00        2.85   \n",
       "29           Cash                1           2.30        11.00        2.35   \n",
       "30    Credit Card                1          30.83        80.00       18.56   \n",
       "31           Cash                1           2.30        10.50        1.77   \n",
       "34           Cash                1           2.90        15.50        3.45   \n",
       "35    Credit Card                1           1.70        10.50        1.70   \n",
       "38           Cash                1           2.11        11.50        2.46   \n",
       "39           Cash                4           0.40         4.00        0.72   \n",
       "40           Cash                1           1.28         7.50        5.00   \n",
       "\n",
       "    tolls_amount  \n",
       "0           0.00  \n",
       "1           0.00  \n",
       "2           0.00  \n",
       "3           0.00  \n",
       "5           0.00  \n",
       "6           0.00  \n",
       "7           0.00  \n",
       "9           0.00  \n",
       "10          0.00  \n",
       "11          5.54  \n",
       "12          0.00  \n",
       "13          0.00  \n",
       "14          0.00  \n",
       "15          0.00  \n",
       "16          0.00  \n",
       "20          0.00  \n",
       "22         16.26  \n",
       "23          0.00  \n",
       "24          0.00  \n",
       "25          0.00  \n",
       "26          0.00  \n",
       "27          0.00  \n",
       "29          0.00  \n",
       "30         11.52  \n",
       "31          0.00  \n",
       "34          0.00  \n",
       "35          0.00  \n",
       "38          0.00  \n",
       "39          0.00  \n",
       "40          0.00  "
      ]
     },
     "execution_count": 70,
     "metadata": {},
     "output_type": "execute_result"
    }
   ],
   "source": [
    "data.head(30)"
   ]
  },
  {
   "cell_type": "code",
   "execution_count": 71,
   "id": "d7aa8b60",
   "metadata": {},
   "outputs": [
    {
     "data": {
      "text/plain": [
       "array(['Debit Card', 'Cash', 'Credit Card'], dtype=object)"
      ]
     },
     "execution_count": 71,
     "metadata": {},
     "output_type": "execute_result"
    }
   ],
   "source": [
    "data['payment_method'].unique()\n",
    "# payment_method의 종류를 확인합니다."
   ]
  },
  {
   "cell_type": "code",
   "execution_count": 72,
   "id": "699bbad6",
   "metadata": {},
   "outputs": [
    {
     "data": {
      "text/plain": [
       "payment_method\n",
       "Cash           6402\n",
       "Debit Card     3238\n",
       "Credit Card    3221\n",
       "Name: count, dtype: int64"
      ]
     },
     "execution_count": 72,
     "metadata": {},
     "output_type": "execute_result"
    }
   ],
   "source": [
    "data['payment_method'].value_counts()\n",
    "# payment_method의 종류를 확인합니다."
   ]
  },
  {
   "cell_type": "code",
   "execution_count": 80,
   "id": "371e7fd7",
   "metadata": {},
   "outputs": [],
   "source": [
    "data['payment_method']= data['payment_method'].replace({'Credit Card': 'card', 'Debit Card': 'card'})\n"
   ]
  },
  {
   "cell_type": "code",
   "execution_count": 81,
   "id": "ef817502",
   "metadata": {},
   "outputs": [
    {
     "data": {
      "text/plain": [
       "payment_method\n",
       "card    6459\n",
       "Cash    6402\n",
       "Name: count, dtype: int64"
      ]
     },
     "execution_count": 81,
     "metadata": {},
     "output_type": "execute_result"
    }
   ],
   "source": [
    "data['payment_method'].value_counts()"
   ]
  },
  {
   "cell_type": "code",
   "execution_count": 82,
   "id": "2b632a0e",
   "metadata": {},
   "outputs": [],
   "source": [
    "example = 'Susan Robinson'"
   ]
  },
  {
   "cell_type": "code",
   "execution_count": 84,
   "id": "89bc0444",
   "metadata": {},
   "outputs": [
    {
     "data": {
      "text/plain": [
       "['Susan', 'Robinson']"
      ]
     },
     "execution_count": 84,
     "metadata": {},
     "output_type": "execute_result"
    }
   ],
   "source": [
    "example.split()"
   ]
  },
  {
   "cell_type": "code",
   "execution_count": 87,
   "id": "8031e102",
   "metadata": {},
   "outputs": [
    {
     "data": {
      "text/html": [
       "<div>\n",
       "<style scoped>\n",
       "    .dataframe tbody tr th:only-of-type {\n",
       "        vertical-align: middle;\n",
       "    }\n",
       "\n",
       "    .dataframe tbody tr th {\n",
       "        vertical-align: top;\n",
       "    }\n",
       "\n",
       "    .dataframe thead th {\n",
       "        text-align: right;\n",
       "    }\n",
       "</style>\n",
       "<table border=\"1\" class=\"dataframe\">\n",
       "  <thead>\n",
       "    <tr style=\"text-align: right;\">\n",
       "      <th></th>\n",
       "      <th>0</th>\n",
       "      <th>1</th>\n",
       "      <th>2</th>\n",
       "      <th>3</th>\n",
       "    </tr>\n",
       "  </thead>\n",
       "  <tbody>\n",
       "    <tr>\n",
       "      <th>0</th>\n",
       "      <td>Pamela</td>\n",
       "      <td>Duffy</td>\n",
       "      <td>None</td>\n",
       "      <td>None</td>\n",
       "    </tr>\n",
       "    <tr>\n",
       "      <th>1</th>\n",
       "      <td>Michelle</td>\n",
       "      <td>Foster</td>\n",
       "      <td>None</td>\n",
       "      <td>None</td>\n",
       "    </tr>\n",
       "    <tr>\n",
       "      <th>2</th>\n",
       "      <td>Tina</td>\n",
       "      <td>Combs</td>\n",
       "      <td>None</td>\n",
       "      <td>None</td>\n",
       "    </tr>\n",
       "    <tr>\n",
       "      <th>3</th>\n",
       "      <td>Anthony</td>\n",
       "      <td>Ray</td>\n",
       "      <td>None</td>\n",
       "      <td>None</td>\n",
       "    </tr>\n",
       "    <tr>\n",
       "      <th>5</th>\n",
       "      <td>Justin</td>\n",
       "      <td>Smith</td>\n",
       "      <td>None</td>\n",
       "      <td>None</td>\n",
       "    </tr>\n",
       "    <tr>\n",
       "      <th>...</th>\n",
       "      <td>...</td>\n",
       "      <td>...</td>\n",
       "      <td>...</td>\n",
       "      <td>...</td>\n",
       "    </tr>\n",
       "    <tr>\n",
       "      <th>22694</th>\n",
       "      <td>Marcia</td>\n",
       "      <td>Graham</td>\n",
       "      <td>MD</td>\n",
       "      <td>None</td>\n",
       "    </tr>\n",
       "    <tr>\n",
       "      <th>22695</th>\n",
       "      <td>Patrick</td>\n",
       "      <td>Williams</td>\n",
       "      <td>None</td>\n",
       "      <td>None</td>\n",
       "    </tr>\n",
       "    <tr>\n",
       "      <th>22697</th>\n",
       "      <td>Monique</td>\n",
       "      <td>Williams</td>\n",
       "      <td>None</td>\n",
       "      <td>None</td>\n",
       "    </tr>\n",
       "    <tr>\n",
       "      <th>22699</th>\n",
       "      <td>Jonathan</td>\n",
       "      <td>Copeland</td>\n",
       "      <td>None</td>\n",
       "      <td>None</td>\n",
       "    </tr>\n",
       "    <tr>\n",
       "      <th>22700</th>\n",
       "      <td>Benjamin</td>\n",
       "      <td>Miller</td>\n",
       "      <td>None</td>\n",
       "      <td>None</td>\n",
       "    </tr>\n",
       "  </tbody>\n",
       "</table>\n",
       "<p>12861 rows × 4 columns</p>\n",
       "</div>"
      ],
      "text/plain": [
       "              0         1     2     3\n",
       "0        Pamela     Duffy  None  None\n",
       "1      Michelle    Foster  None  None\n",
       "2          Tina     Combs  None  None\n",
       "3       Anthony       Ray  None  None\n",
       "5        Justin     Smith  None  None\n",
       "...         ...       ...   ...   ...\n",
       "22694    Marcia    Graham    MD  None\n",
       "22695   Patrick  Williams  None  None\n",
       "22697   Monique  Williams  None  None\n",
       "22699  Jonathan  Copeland  None  None\n",
       "22700  Benjamin    Miller  None  None\n",
       "\n",
       "[12861 rows x 4 columns]"
      ]
     },
     "execution_count": 87,
     "metadata": {},
     "output_type": "execute_result"
    }
   ],
   "source": [
    "data['passenger_name'].str.split(expand=True)"
   ]
  },
  {
   "cell_type": "code",
   "execution_count": 88,
   "id": "ab5453dd",
   "metadata": {},
   "outputs": [],
   "source": [
    "passenger_first_name = data['passenger_name'].str.split(expand=True)[0]\n"
   ]
  },
  {
   "cell_type": "code",
   "execution_count": 89,
   "id": "acd3441d",
   "metadata": {},
   "outputs": [
    {
     "data": {
      "text/plain": [
       "0      Pamela\n",
       "1    Michelle\n",
       "2        Tina\n",
       "3     Anthony\n",
       "5      Justin\n",
       "Name: 0, dtype: object"
      ]
     },
     "execution_count": 89,
     "metadata": {},
     "output_type": "execute_result"
    }
   ],
   "source": [
    "passenger_first_name.head()"
   ]
  },
  {
   "cell_type": "code",
   "execution_count": 90,
   "id": "0d9c9f80",
   "metadata": {},
   "outputs": [
    {
     "data": {
      "text/html": [
       "<div>\n",
       "<style scoped>\n",
       "    .dataframe tbody tr th:only-of-type {\n",
       "        vertical-align: middle;\n",
       "    }\n",
       "\n",
       "    .dataframe tbody tr th {\n",
       "        vertical-align: top;\n",
       "    }\n",
       "\n",
       "    .dataframe thead th {\n",
       "        text-align: right;\n",
       "    }\n",
       "</style>\n",
       "<table border=\"1\" class=\"dataframe\">\n",
       "  <thead>\n",
       "    <tr style=\"text-align: right;\">\n",
       "      <th></th>\n",
       "      <th>passenger_name</th>\n",
       "      <th>tpep_pickup_datetime</th>\n",
       "      <th>tpep_dropoff_datetime</th>\n",
       "      <th>payment_method</th>\n",
       "      <th>passenger_count</th>\n",
       "      <th>trip_distance</th>\n",
       "      <th>fare_amount</th>\n",
       "      <th>tip_amount</th>\n",
       "      <th>tolls_amount</th>\n",
       "    </tr>\n",
       "  </thead>\n",
       "  <tbody>\n",
       "    <tr>\n",
       "      <th>0</th>\n",
       "      <td>Pamela Duffy</td>\n",
       "      <td>03/25/2017 8:55:43 AM</td>\n",
       "      <td>03/25/2017 9:09:47 AM</td>\n",
       "      <td>card</td>\n",
       "      <td>6</td>\n",
       "      <td>3.34</td>\n",
       "      <td>13.0</td>\n",
       "      <td>2.76</td>\n",
       "      <td>0.0</td>\n",
       "    </tr>\n",
       "    <tr>\n",
       "      <th>1</th>\n",
       "      <td>Michelle Foster</td>\n",
       "      <td>04/11/2017 2:53:28 PM</td>\n",
       "      <td>04/11/2017 3:19:58 PM</td>\n",
       "      <td>card</td>\n",
       "      <td>1</td>\n",
       "      <td>1.80</td>\n",
       "      <td>16.0</td>\n",
       "      <td>4.00</td>\n",
       "      <td>0.0</td>\n",
       "    </tr>\n",
       "    <tr>\n",
       "      <th>2</th>\n",
       "      <td>Tina Combs</td>\n",
       "      <td>12/15/2017 7:26:56 AM</td>\n",
       "      <td>12/15/2017 7:34:08 AM</td>\n",
       "      <td>card</td>\n",
       "      <td>1</td>\n",
       "      <td>1.00</td>\n",
       "      <td>6.5</td>\n",
       "      <td>1.45</td>\n",
       "      <td>0.0</td>\n",
       "    </tr>\n",
       "    <tr>\n",
       "      <th>3</th>\n",
       "      <td>Anthony Ray</td>\n",
       "      <td>05/07/2017 1:17:59 PM</td>\n",
       "      <td>05/07/2017 1:48:14 PM</td>\n",
       "      <td>Cash</td>\n",
       "      <td>1</td>\n",
       "      <td>3.70</td>\n",
       "      <td>20.5</td>\n",
       "      <td>6.39</td>\n",
       "      <td>0.0</td>\n",
       "    </tr>\n",
       "    <tr>\n",
       "      <th>5</th>\n",
       "      <td>Justin Smith</td>\n",
       "      <td>03/25/2017 8:34:11 PM</td>\n",
       "      <td>03/25/2017 8:42:11 PM</td>\n",
       "      <td>card</td>\n",
       "      <td>6</td>\n",
       "      <td>2.30</td>\n",
       "      <td>9.0</td>\n",
       "      <td>2.06</td>\n",
       "      <td>0.0</td>\n",
       "    </tr>\n",
       "  </tbody>\n",
       "</table>\n",
       "</div>"
      ],
      "text/plain": [
       "    passenger_name   tpep_pickup_datetime  tpep_dropoff_datetime  \\\n",
       "0     Pamela Duffy  03/25/2017 8:55:43 AM  03/25/2017 9:09:47 AM   \n",
       "1  Michelle Foster  04/11/2017 2:53:28 PM  04/11/2017 3:19:58 PM   \n",
       "2       Tina Combs  12/15/2017 7:26:56 AM  12/15/2017 7:34:08 AM   \n",
       "3      Anthony Ray  05/07/2017 1:17:59 PM  05/07/2017 1:48:14 PM   \n",
       "5     Justin Smith  03/25/2017 8:34:11 PM  03/25/2017 8:42:11 PM   \n",
       "\n",
       "  payment_method  passenger_count  trip_distance  fare_amount  tip_amount  \\\n",
       "0           card                6           3.34         13.0        2.76   \n",
       "1           card                1           1.80         16.0        4.00   \n",
       "2           card                1           1.00          6.5        1.45   \n",
       "3           Cash                1           3.70         20.5        6.39   \n",
       "5           card                6           2.30          9.0        2.06   \n",
       "\n",
       "   tolls_amount  \n",
       "0           0.0  \n",
       "1           0.0  \n",
       "2           0.0  \n",
       "3           0.0  \n",
       "5           0.0  "
      ]
     },
     "execution_count": 90,
     "metadata": {},
     "output_type": "execute_result"
    }
   ],
   "source": [
    "data.head()"
   ]
  },
  {
   "cell_type": "code",
   "execution_count": 91,
   "id": "d749b87e",
   "metadata": {},
   "outputs": [
    {
     "name": "stdout",
     "output_type": "stream",
     "text": [
      "<class 'pandas.core.frame.DataFrame'>\n",
      "Index: 12861 entries, 0 to 22700\n",
      "Data columns (total 9 columns):\n",
      " #   Column                 Non-Null Count  Dtype  \n",
      "---  ------                 --------------  -----  \n",
      " 0   passenger_name         12861 non-null  object \n",
      " 1   tpep_pickup_datetime   12861 non-null  object \n",
      " 2   tpep_dropoff_datetime  12861 non-null  object \n",
      " 3   payment_method         12861 non-null  object \n",
      " 4   passenger_count        12861 non-null  int64  \n",
      " 5   trip_distance          12861 non-null  float64\n",
      " 6   fare_amount            12861 non-null  float64\n",
      " 7   tip_amount             12861 non-null  float64\n",
      " 8   tolls_amount           12861 non-null  float64\n",
      "dtypes: float64(4), int64(1), object(4)\n",
      "memory usage: 1004.8+ KB\n"
     ]
    }
   ],
   "source": [
    "data.info()"
   ]
  },
  {
   "cell_type": "code",
   "execution_count": 94,
   "id": "4b46e78e",
   "metadata": {},
   "outputs": [],
   "source": [
    "data['tpep_pickup_datetime'] = pd.to_datetime(data['tpep_pickup_datetime'], format='%m/%d/%Y %I:%M:%S %p')\n",
    "data['tpep_dropoff_datetime'] = pd.to_datetime(data['tpep_dropoff_datetime'], format='%m/%d/%Y %I:%M:%S %p')\n"
   ]
  },
  {
   "cell_type": "code",
   "execution_count": 95,
   "id": "05963a74",
   "metadata": {},
   "outputs": [
    {
     "name": "stdout",
     "output_type": "stream",
     "text": [
      "<class 'pandas.core.frame.DataFrame'>\n",
      "Index: 12861 entries, 0 to 22700\n",
      "Data columns (total 9 columns):\n",
      " #   Column                 Non-Null Count  Dtype         \n",
      "---  ------                 --------------  -----         \n",
      " 0   passenger_name         12861 non-null  object        \n",
      " 1   tpep_pickup_datetime   12861 non-null  datetime64[ns]\n",
      " 2   tpep_dropoff_datetime  12861 non-null  datetime64[ns]\n",
      " 3   payment_method         12861 non-null  object        \n",
      " 4   passenger_count        12861 non-null  int64         \n",
      " 5   trip_distance          12861 non-null  float64       \n",
      " 6   fare_amount            12861 non-null  float64       \n",
      " 7   tip_amount             12861 non-null  float64       \n",
      " 8   tolls_amount           12861 non-null  float64       \n",
      "dtypes: datetime64[ns](2), float64(4), int64(1), object(2)\n",
      "memory usage: 1004.8+ KB\n"
     ]
    }
   ],
   "source": [
    "data.info()"
   ]
  },
  {
   "cell_type": "code",
   "execution_count": 106,
   "id": "0335b305",
   "metadata": {},
   "outputs": [],
   "source": [
    "data['travel_time'] = data['tpep_dropoff_datetime'] - data['tpep_pickup_datetime']"
   ]
  },
  {
   "cell_type": "code",
   "execution_count": 107,
   "id": "4c54be04",
   "metadata": {},
   "outputs": [
    {
     "data": {
      "text/html": [
       "<div>\n",
       "<style scoped>\n",
       "    .dataframe tbody tr th:only-of-type {\n",
       "        vertical-align: middle;\n",
       "    }\n",
       "\n",
       "    .dataframe tbody tr th {\n",
       "        vertical-align: top;\n",
       "    }\n",
       "\n",
       "    .dataframe thead th {\n",
       "        text-align: right;\n",
       "    }\n",
       "</style>\n",
       "<table border=\"1\" class=\"dataframe\">\n",
       "  <thead>\n",
       "    <tr style=\"text-align: right;\">\n",
       "      <th></th>\n",
       "      <th>passenger_name</th>\n",
       "      <th>tpep_pickup_datetime</th>\n",
       "      <th>tpep_dropoff_datetime</th>\n",
       "      <th>payment_method</th>\n",
       "      <th>passenger_count</th>\n",
       "      <th>trip_distance</th>\n",
       "      <th>fare_amount</th>\n",
       "      <th>tip_amount</th>\n",
       "      <th>tolls_amount</th>\n",
       "      <th>travel_time</th>\n",
       "    </tr>\n",
       "  </thead>\n",
       "  <tbody>\n",
       "    <tr>\n",
       "      <th>0</th>\n",
       "      <td>Pamela Duffy</td>\n",
       "      <td>2017-03-25 08:55:43</td>\n",
       "      <td>2017-03-25 09:09:47</td>\n",
       "      <td>card</td>\n",
       "      <td>6</td>\n",
       "      <td>3.34</td>\n",
       "      <td>13.0</td>\n",
       "      <td>2.76</td>\n",
       "      <td>0.0</td>\n",
       "      <td>0 days 00:14:04</td>\n",
       "    </tr>\n",
       "    <tr>\n",
       "      <th>1</th>\n",
       "      <td>Michelle Foster</td>\n",
       "      <td>2017-04-11 14:53:28</td>\n",
       "      <td>2017-04-11 15:19:58</td>\n",
       "      <td>card</td>\n",
       "      <td>1</td>\n",
       "      <td>1.80</td>\n",
       "      <td>16.0</td>\n",
       "      <td>4.00</td>\n",
       "      <td>0.0</td>\n",
       "      <td>0 days 00:26:30</td>\n",
       "    </tr>\n",
       "    <tr>\n",
       "      <th>2</th>\n",
       "      <td>Tina Combs</td>\n",
       "      <td>2017-12-15 07:26:56</td>\n",
       "      <td>2017-12-15 07:34:08</td>\n",
       "      <td>card</td>\n",
       "      <td>1</td>\n",
       "      <td>1.00</td>\n",
       "      <td>6.5</td>\n",
       "      <td>1.45</td>\n",
       "      <td>0.0</td>\n",
       "      <td>0 days 00:07:12</td>\n",
       "    </tr>\n",
       "    <tr>\n",
       "      <th>3</th>\n",
       "      <td>Anthony Ray</td>\n",
       "      <td>2017-05-07 13:17:59</td>\n",
       "      <td>2017-05-07 13:48:14</td>\n",
       "      <td>Cash</td>\n",
       "      <td>1</td>\n",
       "      <td>3.70</td>\n",
       "      <td>20.5</td>\n",
       "      <td>6.39</td>\n",
       "      <td>0.0</td>\n",
       "      <td>0 days 00:30:15</td>\n",
       "    </tr>\n",
       "    <tr>\n",
       "      <th>5</th>\n",
       "      <td>Justin Smith</td>\n",
       "      <td>2017-03-25 20:34:11</td>\n",
       "      <td>2017-03-25 20:42:11</td>\n",
       "      <td>card</td>\n",
       "      <td>6</td>\n",
       "      <td>2.30</td>\n",
       "      <td>9.0</td>\n",
       "      <td>2.06</td>\n",
       "      <td>0.0</td>\n",
       "      <td>0 days 00:08:00</td>\n",
       "    </tr>\n",
       "  </tbody>\n",
       "</table>\n",
       "</div>"
      ],
      "text/plain": [
       "    passenger_name tpep_pickup_datetime tpep_dropoff_datetime payment_method  \\\n",
       "0     Pamela Duffy  2017-03-25 08:55:43   2017-03-25 09:09:47           card   \n",
       "1  Michelle Foster  2017-04-11 14:53:28   2017-04-11 15:19:58           card   \n",
       "2       Tina Combs  2017-12-15 07:26:56   2017-12-15 07:34:08           card   \n",
       "3      Anthony Ray  2017-05-07 13:17:59   2017-05-07 13:48:14           Cash   \n",
       "5     Justin Smith  2017-03-25 20:34:11   2017-03-25 20:42:11           card   \n",
       "\n",
       "   passenger_count  trip_distance  fare_amount  tip_amount  tolls_amount  \\\n",
       "0                6           3.34         13.0        2.76           0.0   \n",
       "1                1           1.80         16.0        4.00           0.0   \n",
       "2                1           1.00          6.5        1.45           0.0   \n",
       "3                1           3.70         20.5        6.39           0.0   \n",
       "5                6           2.30          9.0        2.06           0.0   \n",
       "\n",
       "      travel_time  \n",
       "0 0 days 00:14:04  \n",
       "1 0 days 00:26:30  \n",
       "2 0 days 00:07:12  \n",
       "3 0 days 00:30:15  \n",
       "5 0 days 00:08:00  "
      ]
     },
     "execution_count": 107,
     "metadata": {},
     "output_type": "execute_result"
    }
   ],
   "source": [
    "data.head()"
   ]
  },
  {
   "cell_type": "code",
   "execution_count": 108,
   "id": "ca9fb268",
   "metadata": {},
   "outputs": [
    {
     "name": "stdout",
     "output_type": "stream",
     "text": [
      "<class 'pandas.core.frame.DataFrame'>\n",
      "Index: 12861 entries, 0 to 22700\n",
      "Data columns (total 10 columns):\n",
      " #   Column                 Non-Null Count  Dtype          \n",
      "---  ------                 --------------  -----          \n",
      " 0   passenger_name         12861 non-null  object         \n",
      " 1   tpep_pickup_datetime   12861 non-null  datetime64[ns] \n",
      " 2   tpep_dropoff_datetime  12861 non-null  datetime64[ns] \n",
      " 3   payment_method         12861 non-null  object         \n",
      " 4   passenger_count        12861 non-null  int64          \n",
      " 5   trip_distance          12861 non-null  float64        \n",
      " 6   fare_amount            12861 non-null  float64        \n",
      " 7   tip_amount             12861 non-null  float64        \n",
      " 8   tolls_amount           12861 non-null  float64        \n",
      " 9   travel_time            12861 non-null  timedelta64[ns]\n",
      "dtypes: datetime64[ns](2), float64(4), int64(1), object(2), timedelta64[ns](1)\n",
      "memory usage: 1.1+ MB\n"
     ]
    }
   ],
   "source": [
    "data.info()"
   ]
  },
  {
   "cell_type": "code",
   "execution_count": 109,
   "id": "7ce391fe",
   "metadata": {},
   "outputs": [],
   "source": [
    "data['travel_time'] = data['travel_time'].dt.seconds\n"
   ]
  },
  {
   "cell_type": "code",
   "execution_count": 110,
   "id": "af16ef10",
   "metadata": {},
   "outputs": [
    {
     "data": {
      "text/html": [
       "<div>\n",
       "<style scoped>\n",
       "    .dataframe tbody tr th:only-of-type {\n",
       "        vertical-align: middle;\n",
       "    }\n",
       "\n",
       "    .dataframe tbody tr th {\n",
       "        vertical-align: top;\n",
       "    }\n",
       "\n",
       "    .dataframe thead th {\n",
       "        text-align: right;\n",
       "    }\n",
       "</style>\n",
       "<table border=\"1\" class=\"dataframe\">\n",
       "  <thead>\n",
       "    <tr style=\"text-align: right;\">\n",
       "      <th></th>\n",
       "      <th>passenger_name</th>\n",
       "      <th>tpep_pickup_datetime</th>\n",
       "      <th>tpep_dropoff_datetime</th>\n",
       "      <th>payment_method</th>\n",
       "      <th>passenger_count</th>\n",
       "      <th>trip_distance</th>\n",
       "      <th>fare_amount</th>\n",
       "      <th>tip_amount</th>\n",
       "      <th>tolls_amount</th>\n",
       "      <th>travel_time</th>\n",
       "    </tr>\n",
       "  </thead>\n",
       "  <tbody>\n",
       "    <tr>\n",
       "      <th>0</th>\n",
       "      <td>Pamela Duffy</td>\n",
       "      <td>2017-03-25 08:55:43</td>\n",
       "      <td>2017-03-25 09:09:47</td>\n",
       "      <td>card</td>\n",
       "      <td>6</td>\n",
       "      <td>3.34</td>\n",
       "      <td>13.0</td>\n",
       "      <td>2.76</td>\n",
       "      <td>0.0</td>\n",
       "      <td>844</td>\n",
       "    </tr>\n",
       "    <tr>\n",
       "      <th>1</th>\n",
       "      <td>Michelle Foster</td>\n",
       "      <td>2017-04-11 14:53:28</td>\n",
       "      <td>2017-04-11 15:19:58</td>\n",
       "      <td>card</td>\n",
       "      <td>1</td>\n",
       "      <td>1.80</td>\n",
       "      <td>16.0</td>\n",
       "      <td>4.00</td>\n",
       "      <td>0.0</td>\n",
       "      <td>1590</td>\n",
       "    </tr>\n",
       "    <tr>\n",
       "      <th>2</th>\n",
       "      <td>Tina Combs</td>\n",
       "      <td>2017-12-15 07:26:56</td>\n",
       "      <td>2017-12-15 07:34:08</td>\n",
       "      <td>card</td>\n",
       "      <td>1</td>\n",
       "      <td>1.00</td>\n",
       "      <td>6.5</td>\n",
       "      <td>1.45</td>\n",
       "      <td>0.0</td>\n",
       "      <td>432</td>\n",
       "    </tr>\n",
       "    <tr>\n",
       "      <th>3</th>\n",
       "      <td>Anthony Ray</td>\n",
       "      <td>2017-05-07 13:17:59</td>\n",
       "      <td>2017-05-07 13:48:14</td>\n",
       "      <td>Cash</td>\n",
       "      <td>1</td>\n",
       "      <td>3.70</td>\n",
       "      <td>20.5</td>\n",
       "      <td>6.39</td>\n",
       "      <td>0.0</td>\n",
       "      <td>1815</td>\n",
       "    </tr>\n",
       "    <tr>\n",
       "      <th>5</th>\n",
       "      <td>Justin Smith</td>\n",
       "      <td>2017-03-25 20:34:11</td>\n",
       "      <td>2017-03-25 20:42:11</td>\n",
       "      <td>card</td>\n",
       "      <td>6</td>\n",
       "      <td>2.30</td>\n",
       "      <td>9.0</td>\n",
       "      <td>2.06</td>\n",
       "      <td>0.0</td>\n",
       "      <td>480</td>\n",
       "    </tr>\n",
       "  </tbody>\n",
       "</table>\n",
       "</div>"
      ],
      "text/plain": [
       "    passenger_name tpep_pickup_datetime tpep_dropoff_datetime payment_method  \\\n",
       "0     Pamela Duffy  2017-03-25 08:55:43   2017-03-25 09:09:47           card   \n",
       "1  Michelle Foster  2017-04-11 14:53:28   2017-04-11 15:19:58           card   \n",
       "2       Tina Combs  2017-12-15 07:26:56   2017-12-15 07:34:08           card   \n",
       "3      Anthony Ray  2017-05-07 13:17:59   2017-05-07 13:48:14           Cash   \n",
       "5     Justin Smith  2017-03-25 20:34:11   2017-03-25 20:42:11           card   \n",
       "\n",
       "   passenger_count  trip_distance  fare_amount  tip_amount  tolls_amount  \\\n",
       "0                6           3.34         13.0        2.76           0.0   \n",
       "1                1           1.80         16.0        4.00           0.0   \n",
       "2                1           1.00          6.5        1.45           0.0   \n",
       "3                1           3.70         20.5        6.39           0.0   \n",
       "5                6           2.30          9.0        2.06           0.0   \n",
       "\n",
       "   travel_time  \n",
       "0          844  \n",
       "1         1590  \n",
       "2          432  \n",
       "3         1815  \n",
       "5          480  "
      ]
     },
     "execution_count": 110,
     "metadata": {},
     "output_type": "execute_result"
    }
   ],
   "source": [
    "data.head()"
   ]
  },
  {
   "cell_type": "code",
   "execution_count": 112,
   "id": "e9e6b268",
   "metadata": {},
   "outputs": [],
   "source": [
    "data['total_amount'] = data['fare_amount'] + data['tip_amount'] + data['tolls_amount']\n",
    "# total_amount를 추가합니다."
   ]
  },
  {
   "cell_type": "code",
   "execution_count": 114,
   "id": "bb4a638b",
   "metadata": {},
   "outputs": [
    {
     "data": {
      "text/plain": [
       "<Axes: xlabel='fare_amount', ylabel='trip_distance'>"
      ]
     },
     "execution_count": 114,
     "metadata": {},
     "output_type": "execute_result"
    },
    {
     "data": {
      "image/png": "[encoded data removed]",
      "text/plain": [
       "<Figure size 640x480 with 1 Axes>"
      ]
     },
     "metadata": {},
     "output_type": "display_data"
    }
   ],
   "source": [
    "sns.scatterplot(x = data['fare_amount'], y = data['trip_distance'])"
   ]
  },
  {
   "cell_type": "code",
   "execution_count": 115,
   "id": "b1a49558",
   "metadata": {},
   "outputs": [
    {
     "data": {
      "text/plain": [
       "<Axes: xlabel='fare_amount', ylabel='travel_time'>"
      ]
     },
     "execution_count": 115,
     "metadata": {},
     "output_type": "execute_result"
    },
    {
     "data": {
      "image/png": "[encoded data removed]",
      "text/plain": [
       "<Figure size 640x480 with 1 Axes>"
      ]
     },
     "metadata": {},
     "output_type": "display_data"
    }
   ],
   "source": [
    "sns.scatterplot(x = data['fare_amount'], y = data['travel_time'])"
   ]
  },
  {
   "cell_type": "code",
   "execution_count": 117,
   "id": "e1e4ac4d",
   "metadata": {},
   "outputs": [
    {
     "data": {
      "text/plain": [
       "<Axes: xlabel='trip_distance', ylabel='travel_time'>"
      ]
     },
     "execution_count": 117,
     "metadata": {},
     "output_type": "execute_result"
    },
    {
     "data": {
      "image/png": "[encoded data removed]",
      "text/plain": [
       "<Figure size 640x480 with 1 Axes>"
      ]
     },
     "metadata": {},
     "output_type": "display_data"
    }
   ],
   "source": [
    "sns.scatterplot(x = data['trip_distance'], y = data['travel_time'])"
   ]
  },
  {
   "cell_type": "code",
   "execution_count": 118,
   "id": "d8daafc2",
   "metadata": {},
   "outputs": [],
   "source": [
    "data = data[data['travel_time'] < 60000]\n",
    "# travel_time의 이상치를 제거합니다."
   ]
  },
  {
   "cell_type": "code",
   "execution_count": 121,
   "id": "7bc8bf77",
   "metadata": {},
   "outputs": [
    {
     "data": {
      "text/plain": [
       "<Axes: xlabel='trip_distance', ylabel='travel_time'>"
      ]
     },
     "execution_count": 121,
     "metadata": {},
     "output_type": "execute_result"
    },
    {
     "data": {
      "image/png": "[encoded data removed]",
      "text/plain": [
       "<Figure size 640x480 with 1 Axes>"
      ]
     },
     "metadata": {},
     "output_type": "display_data"
    }
   ],
   "source": [
    "sns.scatterplot(x = data['trip_distance'], y = data['travel_time'])\n",
    "# travel_time의 scatter plot을 다시 그려봅니다."
   ]
  },
  {
   "cell_type": "code",
   "execution_count": null,
   "id": "fbd5c413",
   "metadata": {},
   "outputs": [],
   "source": []
  }
 ],
 "metadata": {
  "kernelspec": {
   "display_name": "Python 3",
   "language": "python",
   "name": "python3"
  },
  "language_info": {
   "codemirror_mode": {
    "name": "ipython",
    "version": 3
   },
   "file_extension": ".py",
   "mimetype": "text/x-python",
   "name": "python",
   "nbconvert_exporter": "python",
   "pygments_lexer": "ipython3",
   "version": "3.11.2"
  }
 },
 "nbformat": 4,
 "nbformat_minor": 5
}
